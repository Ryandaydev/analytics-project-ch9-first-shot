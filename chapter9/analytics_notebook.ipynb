{
 "cells": [
  {
   "cell_type": "code",
   "execution_count": 1,
   "metadata": {},
   "outputs": [
    {
     "name": "stdout",
     "output_type": "stream",
     "text": [
      "My Codespace is working now\n"
     ]
    }
   ],
   "source": [
    "print(\"My Codespace is working now\")"
   ]
  },
  {
   "cell_type": "markdown",
   "metadata": {},
   "source": [
    "# Calling the SWC API\n",
    "\n",
    "## Calling the Health Check endpoint with httpx"
   ]
  },
  {
   "cell_type": "code",
   "execution_count": 2,
   "metadata": {},
   "outputs": [
    {
     "name": "stdout",
     "output_type": "stream",
     "text": [
      "200\n",
      "{'message': 'API health check successful'}\n"
     ]
    }
   ],
   "source": [
    "import httpx\n",
    "\n",
    "base_url = \"https://api.sportsworldcentral.com\"\n",
    "endpoint = \"/\"\n",
    "\n",
    "api_response = httpx.get(base_url + endpoint)\n",
    "print(api_response.status_code)\n",
    "print(api_response.json())\n"
   ]
  },
  {
   "cell_type": "markdown",
   "metadata": {},
   "source": [
    "## Gathering league information"
   ]
  },
  {
   "cell_type": "code",
   "execution_count": 5,
   "metadata": {},
   "outputs": [
    {
     "name": "stdout",
     "output_type": "stream",
     "text": [
      "[{'league_id': 5001, 'league_name': 'Pigskin Prodigal Fantasy League', 'scoring_type': 'PPR', 'last_changed_date': '2024-04-25', 'teams': [{'league_id': 5001, 'team_id': 1007, 'team_name': 'Checkers Not Chess', 'last_changed_date': '2024-04-23'}, {'league_id': 5001, 'team_id': 1003, 'team_name': 'Dallas Steers', 'last_changed_date': '2024-04-23'}, {'league_id': 5001, 'team_id': 1008, 'team_name': 'Defending Champs', 'last_changed_date': '2024-04-23'}, {'league_id': 5001, 'team_id': 1011, 'team_name': 'Double Option', 'last_changed_date': '2024-04-23'}, {'league_id': 5001, 'team_id': 1005, 'team_name': 'Fighting Catfish', 'last_changed_date': '2024-04-23'}, {'league_id': 5001, 'team_id': 1010, 'team_name': 'Fumblerooski', 'last_changed_date': '2024-04-23'}, {'league_id': 5001, 'team_id': 1004, 'team_name': 'Never Gonna Give Up', 'last_changed_date': '2024-04-23'}, {'league_id': 5001, 'team_id': 1002, 'team_name': 'Pigskin Party', 'last_changed_date': '2024-04-23'}, {'league_id': 5001, 'team_id': 1001, 'team_name': 'Roaring Kitties', 'last_changed_date': '2024-04-23'}, {'league_id': 5001, 'team_id': 1009, 'team_name': 'Team Generic', 'last_changed_date': '2024-04-23'}, {'league_id': 5001, 'team_id': 1006, 'team_name': 'Wallaby Stew', 'last_changed_date': '2024-04-23'}, {'league_id': 5001, 'team_id': 1012, 'team_name': 'Wicked Awesome', 'last_changed_date': '2024-04-23'}]}, {'league_id': 5002, 'league_name': 'Recurring Champions League', 'scoring_type': 'Half-PPR', 'last_changed_date': '2024-04-25', 'teams': [{'league_id': 5002, 'team_id': 1019, 'team_name': 'Blitz Platoon', 'last_changed_date': '2024-04-23'}, {'league_id': 5002, 'team_id': 1016, 'team_name': 'Couch Potatoes', 'last_changed_date': '2024-04-23'}, {'league_id': 5002, 'team_id': 1017, 'team_name': 'Draft Day Dummies', 'last_changed_date': '2024-04-23'}, {'league_id': 5002, 'team_id': 1018, 'team_name': 'Endzone Pirates', 'last_changed_date': '2024-04-23'}, {'league_id': 5002, 'team_id': 1014, 'team_name': 'Fourth and Gronk', 'last_changed_date': '2024-04-23'}, {'league_id': 5002, 'team_id': 1015, 'team_name': 'Sunday Mudslingers', 'last_changed_date': '2024-04-23'}, {'league_id': 5002, 'team_id': 1013, 'team_name': 'The Gridiron Goons', 'last_changed_date': '2024-04-23'}, {'league_id': 5002, 'team_id': 1020, 'team_name': 'The Pigskin Pranksters', 'last_changed_date': '2024-04-23'}]}, {'league_id': 5003, 'league_name': 'AHAHFZZFFFL', 'scoring_type': 'Standard', 'last_changed_date': '2024-04-25', 'teams': []}, {'league_id': 5004, 'league_name': 'Gridiron Gurus Fantasy League', 'scoring_type': 'PPR', 'last_changed_date': '2024-04-25', 'teams': []}, {'league_id': 5005, 'league_name': 'Best League Ever', 'scoring_type': 'PPR', 'last_changed_date': '2024-04-25', 'teams': []}]\n"
     ]
    }
   ],
   "source": [
    "endpoint = \"/v0/leagues/\"\n",
    "api_response = httpx.get(base_url + endpoint)\n",
    "league_data = api_response.json()\n",
    "#now it is a list of dictionaries\n",
    "print(league_data)"
   ]
  },
  {
   "cell_type": "markdown",
   "metadata": {},
   "source": []
  },
  {
   "cell_type": "markdown",
   "metadata": {},
   "source": [
    "## Formatting Team Rosters\n"
   ]
  },
  {
   "cell_type": "code",
   "execution_count": 7,
   "metadata": {},
   "outputs": [
    {
     "name": "stdout",
     "output_type": "stream",
     "text": [
      "   league_id                      league_name scoring_type last_changed_date  \\\n",
      "0       5001  Pigskin Prodigal Fantasy League          PPR        2024-04-25   \n",
      "1       5002       Recurring Champions League     Half-PPR        2024-04-25   \n",
      "2       5003                      AHAHFZZFFFL     Standard        2024-04-25   \n",
      "3       5004    Gridiron Gurus Fantasy League          PPR        2024-04-25   \n",
      "4       5005                 Best League Ever          PPR        2024-04-25   \n",
      "\n",
      "                                               teams  \n",
      "0  [{'league_id': 5001, 'team_id': 1007, 'team_na...  \n",
      "1  [{'league_id': 5002, 'team_id': 1019, 'team_na...  \n",
      "2                                                 []  \n",
      "3                                                 []  \n",
      "4                                                 []  \n"
     ]
    }
   ],
   "source": [
    "import pandas as pd\n",
    "\n",
    "league_df = pd.DataFrame.from_dict(league_data)\n",
    "#now it is a Pandas dataframe\n",
    "print(league_df)\n",
    "\n"
   ]
  },
  {
   "cell_type": "markdown",
   "metadata": {},
   "source": [
    "## Instead of DataFrame, make a normalized dataframe"
   ]
  },
  {
   "cell_type": "markdown",
   "metadata": {},
   "source": []
  },
  {
   "cell_type": "code",
   "execution_count": 13,
   "metadata": {},
   "outputs": [
    {
     "name": "stdout",
     "output_type": "stream",
     "text": [
      "    league_id  team_id               team_name last_changed_date  \\\n",
      "0        5001     1007      Checkers Not Chess        2024-04-23   \n",
      "1        5001     1003           Dallas Steers        2024-04-23   \n",
      "2        5001     1008        Defending Champs        2024-04-23   \n",
      "3        5001     1011           Double Option        2024-04-23   \n",
      "4        5001     1005        Fighting Catfish        2024-04-23   \n",
      "5        5001     1010            Fumblerooski        2024-04-23   \n",
      "6        5001     1004     Never Gonna Give Up        2024-04-23   \n",
      "7        5001     1002           Pigskin Party        2024-04-23   \n",
      "8        5001     1001         Roaring Kitties        2024-04-23   \n",
      "9        5001     1009            Team Generic        2024-04-23   \n",
      "10       5001     1006            Wallaby Stew        2024-04-23   \n",
      "11       5001     1012          Wicked Awesome        2024-04-23   \n",
      "12       5002     1019           Blitz Platoon        2024-04-23   \n",
      "13       5002     1016          Couch Potatoes        2024-04-23   \n",
      "14       5002     1017       Draft Day Dummies        2024-04-23   \n",
      "15       5002     1018         Endzone Pirates        2024-04-23   \n",
      "16       5002     1014        Fourth and Gronk        2024-04-23   \n",
      "17       5002     1015      Sunday Mudslingers        2024-04-23   \n",
      "18       5002     1013      The Gridiron Goons        2024-04-23   \n",
      "19       5002     1020  The Pigskin Pranksters        2024-04-23   \n",
      "\n",
      "                        league_name scoring_type  \n",
      "0   Pigskin Prodigal Fantasy League          PPR  \n",
      "1   Pigskin Prodigal Fantasy League          PPR  \n",
      "2   Pigskin Prodigal Fantasy League          PPR  \n",
      "3   Pigskin Prodigal Fantasy League          PPR  \n",
      "4   Pigskin Prodigal Fantasy League          PPR  \n",
      "5   Pigskin Prodigal Fantasy League          PPR  \n",
      "6   Pigskin Prodigal Fantasy League          PPR  \n",
      "7   Pigskin Prodigal Fantasy League          PPR  \n",
      "8   Pigskin Prodigal Fantasy League          PPR  \n",
      "9   Pigskin Prodigal Fantasy League          PPR  \n",
      "10  Pigskin Prodigal Fantasy League          PPR  \n",
      "11  Pigskin Prodigal Fantasy League          PPR  \n",
      "12       Recurring Champions League     Half-PPR  \n",
      "13       Recurring Champions League     Half-PPR  \n",
      "14       Recurring Champions League     Half-PPR  \n",
      "15       Recurring Champions League     Half-PPR  \n",
      "16       Recurring Champions League     Half-PPR  \n",
      "17       Recurring Champions League     Half-PPR  \n",
      "18       Recurring Champions League     Half-PPR  \n",
      "19       Recurring Champions League     Half-PPR  \n"
     ]
    }
   ],
   "source": [
    "normalized_league_df = pd.json_normalize(league_data, 'teams', ['league_name', 'scoring_type'])\n",
    "\n",
    "print(normalized_league_df)                                         "
   ]
  },
  {
   "cell_type": "code",
   "execution_count": null,
   "metadata": {},
   "outputs": [],
   "source": []
  }
 ],
 "metadata": {
  "kernelspec": {
   "display_name": "Python 3",
   "language": "python",
   "name": "python3"
  },
  "language_info": {
   "codemirror_mode": {
    "name": "ipython",
    "version": 3
   },
   "file_extension": ".py",
   "mimetype": "text/x-python",
   "name": "python",
   "nbconvert_exporter": "python",
   "pygments_lexer": "ipython3",
   "version": "3.10.13"
  }
 },
 "nbformat": 4,
 "nbformat_minor": 2
}
