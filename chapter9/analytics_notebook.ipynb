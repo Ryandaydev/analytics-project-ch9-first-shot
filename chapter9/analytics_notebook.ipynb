{
 "cells": [
  {
   "cell_type": "code",
   "execution_count": 2,
   "metadata": {},
   "outputs": [
    {
     "name": "stdout",
     "output_type": "stream",
     "text": [
      "My Codespace is working now\n"
     ]
    }
   ],
   "source": [
    "print(\"My Codespace is working now\")"
   ]
  },
  {
   "cell_type": "markdown",
   "metadata": {},
   "source": [
    "# Calling the SWC API\n",
    "\n",
    "## Calling the Health Check endpoint with httpx"
   ]
  },
  {
   "cell_type": "code",
   "execution_count": 3,
   "metadata": {},
   "outputs": [
    {
     "name": "stdout",
     "output_type": "stream",
     "text": [
      "200\n",
      "{'message': 'API health check successful'}\n"
     ]
    }
   ],
   "source": [
    "import httpx\n",
    "\n",
    "base_url = \"https://api.sportsworldcentral.com\"\n",
    "endpoint = \"/\"\n",
    "\n",
    "api_response = httpx.get(base_url + endpoint)\n",
    "print(api_response.status_code)\n",
    "print(api_response.json())\n"
   ]
  },
  {
   "cell_type": "markdown",
   "metadata": {},
   "source": [
    "## Gathering league information"
   ]
  },
  {
   "cell_type": "code",
   "execution_count": 4,
   "metadata": {},
   "outputs": [
    {
     "name": "stdout",
     "output_type": "stream",
     "text": [
      "[{'league_id': 5001, 'league_name': 'Pigskin Prodigal Fantasy League', 'scoring_type': 'PPR', 'last_changed_date': '2024-04-25', 'teams': [{'league_id': 5001, 'team_id': 1007, 'team_name': 'Checkers Not Chess', 'last_changed_date': '2024-04-23'}, {'league_id': 5001, 'team_id': 1003, 'team_name': 'Dallas Steers', 'last_changed_date': '2024-04-23'}, {'league_id': 5001, 'team_id': 1008, 'team_name': 'Defending Champs', 'last_changed_date': '2024-04-23'}, {'league_id': 5001, 'team_id': 1011, 'team_name': 'Double Option', 'last_changed_date': '2024-04-23'}, {'league_id': 5001, 'team_id': 1005, 'team_name': 'Fighting Catfish', 'last_changed_date': '2024-04-23'}, {'league_id': 5001, 'team_id': 1010, 'team_name': 'Fumblerooski', 'last_changed_date': '2024-04-23'}, {'league_id': 5001, 'team_id': 1004, 'team_name': 'Never Gonna Give Up', 'last_changed_date': '2024-04-23'}, {'league_id': 5001, 'team_id': 1002, 'team_name': 'Pigskin Party', 'last_changed_date': '2024-04-23'}, {'league_id': 5001, 'team_id': 1001, 'team_name': 'Roaring Kitties', 'last_changed_date': '2024-04-23'}, {'league_id': 5001, 'team_id': 1009, 'team_name': 'Team Generic', 'last_changed_date': '2024-04-23'}, {'league_id': 5001, 'team_id': 1006, 'team_name': 'Wallaby Stew', 'last_changed_date': '2024-04-23'}, {'league_id': 5001, 'team_id': 1012, 'team_name': 'Wicked Awesome', 'last_changed_date': '2024-04-23'}]}, {'league_id': 5002, 'league_name': 'Recurring Champions League', 'scoring_type': 'Half-PPR', 'last_changed_date': '2024-04-25', 'teams': [{'league_id': 5002, 'team_id': 1019, 'team_name': 'Blitz Platoon', 'last_changed_date': '2024-04-23'}, {'league_id': 5002, 'team_id': 1016, 'team_name': 'Couch Potatoes', 'last_changed_date': '2024-04-23'}, {'league_id': 5002, 'team_id': 1017, 'team_name': 'Draft Day Dummies', 'last_changed_date': '2024-04-23'}, {'league_id': 5002, 'team_id': 1018, 'team_name': 'Endzone Pirates', 'last_changed_date': '2024-04-23'}, {'league_id': 5002, 'team_id': 1014, 'team_name': 'Fourth and Gronk', 'last_changed_date': '2024-04-23'}, {'league_id': 5002, 'team_id': 1015, 'team_name': 'Sunday Mudslingers', 'last_changed_date': '2024-04-23'}, {'league_id': 5002, 'team_id': 1013, 'team_name': 'The Gridiron Goons', 'last_changed_date': '2024-04-23'}, {'league_id': 5002, 'team_id': 1020, 'team_name': 'The Pigskin Pranksters', 'last_changed_date': '2024-04-23'}]}, {'league_id': 5003, 'league_name': 'AHAHFZZFFFL', 'scoring_type': 'Standard', 'last_changed_date': '2024-04-25', 'teams': []}, {'league_id': 5004, 'league_name': 'Gridiron Gurus Fantasy League', 'scoring_type': 'PPR', 'last_changed_date': '2024-04-25', 'teams': []}, {'league_id': 5005, 'league_name': 'Best League Ever', 'scoring_type': 'PPR', 'last_changed_date': '2024-04-25', 'teams': []}]\n"
     ]
    }
   ],
   "source": [
    "endpoint = \"/v0/leagues/\"\n",
    "api_response = httpx.get(base_url + endpoint)\n",
    "league_data = api_response.json()\n",
    "print(league_data)"
   ]
  },
  {
   "cell_type": "code",
   "execution_count": 5,
   "metadata": {},
   "outputs": [
    {
     "name": "stdout",
     "output_type": "stream",
     "text": [
      "<class 'list'>\n",
      "<class 'dict'>\n",
      "5\n"
     ]
    }
   ],
   "source": [
    "#print data type of league_data\n",
    "print(type(league_data))\n",
    "#print data type of first element in league_data\n",
    "print(type(league_data[0]))\n",
    "#count league records in returned data\n",
    "print(len(league_data))"
   ]
  },
  {
   "cell_type": "markdown",
   "metadata": {},
   "source": [
    "## Get all teams in a league\n"
   ]
  },
  {
   "cell_type": "code",
   "execution_count": 6,
   "metadata": {},
   "outputs": [
    {
     "name": "stdout",
     "output_type": "stream",
     "text": [
      "[{'league_id': 5001, 'team_id': 1001, 'team_name': 'Roaring Kitties', 'last_changed_date': '2024-04-23', 'players': [{'player_id': 1001, 'gsis_id': '00-0023459', 'first_name': 'Aaron', 'last_name': 'Rodgers', 'position': 'QB', 'last_changed_date': '2024-04-18'}, {'player_id': 1002, 'gsis_id': '00-0023853', 'first_name': 'Matt', 'last_name': 'Prater', 'position': 'K', 'last_changed_date': '2024-04-18'}, {'player_id': 1003, 'gsis_id': '00-0024243', 'first_name': 'Marcedes', 'last_name': 'Lewis', 'position': 'TE', 'last_changed_date': '2024-04-18'}, {'player_id': 1007, 'gsis_id': '00-0026293', 'first_name': 'Matt', 'last_name': 'Slater', 'position': 'WR', 'last_changed_date': '2024-04-18'}, {'player_id': 1014, 'gsis_id': '00-0027944', 'first_name': 'Julio', 'last_name': 'Jones', 'position': 'WR', 'last_changed_date': '2024-04-18'}, {'player_id': 1018, 'gsis_id': '00-0028063', 'first_name': 'Taiwan', 'last_name': 'Jones', 'position': 'RB', 'last_changed_date': '2024-04-18'}, {'player_id': 1022, 'gsis_id': '00-0029239', 'first_name': 'Brandon', 'last_name': 'Bolden', 'position': 'RB', 'last_changed_date': '2024-04-18'}]}, {'league_id': 5001, 'team_id': 1002, 'team_name': 'Pigskin Party', 'last_changed_date': '2024-04-23', 'players': [{'player_id': 1004, 'gsis_id': '00-0025565', 'first_name': 'Nick', 'last_name': 'Folk', 'position': 'K', 'last_changed_date': '2024-04-18'}, {'player_id': 1006, 'gsis_id': '00-0026158', 'first_name': 'Joe', 'last_name': 'Flacco', 'position': 'QB', 'last_changed_date': '2024-04-18'}, {'player_id': 1013, 'gsis_id': '00-0027696', 'first_name': 'Jimmy', 'last_name': 'Graham', 'position': 'TE', 'last_changed_date': '2024-04-18'}, {'player_id': 1017, 'gsis_id': '00-0028002', 'first_name': 'Randall', 'last_name': 'Cobb', 'position': 'WR', 'last_changed_date': '2024-04-18'}, {'player_id': 1021, 'gsis_id': '00-0029000', 'first_name': 'Cole', 'last_name': 'Beasley', 'position': 'WR', 'last_changed_date': '2024-04-18'}, {'player_id': 1031, 'gsis_id': '00-0029892', 'first_name': 'Kyle', 'last_name': 'Juszczyk', 'position': 'RB', 'last_changed_date': '2024-04-18'}, {'player_id': 1040, 'gsis_id': '00-0030513', 'first_name': 'Latavius', 'last_name': 'Murray', 'position': 'RB', 'last_changed_date': '2024-04-18'}]}, {'league_id': 5001, 'team_id': 1003, 'team_name': 'Dallas Steers', 'last_changed_date': '2024-04-23', 'players': [{'player_id': 1005, 'gsis_id': '00-0025580', 'first_name': 'Mason', 'last_name': 'Crosby', 'position': 'K', 'last_changed_date': '2024-04-18'}, {'player_id': 1008, 'gsis_id': '00-0026300', 'first_name': 'Josh', 'last_name': 'Johnson', 'position': 'QB', 'last_changed_date': '2024-04-18'}, {'player_id': 1024, 'gsis_id': '00-0029293', 'first_name': 'Marvin', 'last_name': 'Jones', 'position': 'WR', 'last_changed_date': '2024-04-18'}, {'player_id': 1032, 'gsis_id': '00-0030035', 'first_name': 'Adam', 'last_name': 'Thielen', 'position': 'WR', 'last_changed_date': '2024-04-18'}, {'player_id': 1033, 'gsis_id': '00-0030061', 'first_name': 'Zach', 'last_name': 'Ertz', 'position': 'TE', 'last_changed_date': '2024-04-18'}, {'player_id': 1044, 'gsis_id': '00-0030578', 'first_name': 'Cordarrelle', 'last_name': 'Patterson', 'position': 'RB', 'last_changed_date': '2024-04-18'}, {'player_id': 1046, 'gsis_id': '00-0030874', 'first_name': 'Damien', 'last_name': 'Williams', 'position': 'RB', 'last_changed_date': '2024-04-18'}]}, {'league_id': 5001, 'team_id': 1004, 'team_name': 'Never Gonna Give Up', 'last_changed_date': '2024-04-23', 'players': [{'player_id': 1009, 'gsis_id': '00-0026498', 'first_name': 'Matthew', 'last_name': 'Stafford', 'position': 'QB', 'last_changed_date': '2024-04-18'}, {'player_id': 1011, 'gsis_id': '00-0026858', 'first_name': 'Graham', 'last_name': 'Gano', 'position': 'K', 'last_changed_date': '2024-04-18'}, {'player_id': 1034, 'gsis_id': '00-0030068', 'first_name': 'Marquise', 'last_name': 'Goodwin', 'position': 'WR', 'last_changed_date': '2024-04-18'}, {'player_id': 1036, 'gsis_id': '00-0030279', 'first_name': 'Keenan', 'last_name': 'Allen', 'position': 'WR', 'last_changed_date': '2024-04-18'}, {'player_id': 1039, 'gsis_id': '00-0030506', 'first_name': 'Travis', 'last_name': 'Kelce', 'position': 'TE', 'last_changed_date': '2024-04-18'}, {'player_id': 1047, 'gsis_id': '00-0030968', 'first_name': 'Keith', 'last_name': 'Smith', 'position': 'RB', 'last_changed_date': '2024-04-18'}, {'player_id': 1059, 'gsis_id': '00-0031376', 'first_name': 'Jerick', 'last_name': 'McKinnon', 'position': 'RB', 'last_changed_date': '2024-04-18'}]}, {'league_id': 5001, 'team_id': 1005, 'team_name': 'Fighting Catfish', 'last_changed_date': '2024-04-23', 'players': [{'player_id': 1010, 'gsis_id': '00-0026625', 'first_name': 'Brian', 'last_name': 'Hoyer', 'position': 'QB', 'last_changed_date': '2024-04-18'}, {'player_id': 1025, 'gsis_id': '00-0029421', 'first_name': 'Randy', 'last_name': 'Bullock', 'position': 'K', 'last_changed_date': '2024-04-18'}, {'player_id': 1038, 'gsis_id': '00-0030431', 'first_name': 'Robert', 'last_name': 'Woods', 'position': 'WR', 'last_changed_date': '2024-04-18'}, {'player_id': 1042, 'gsis_id': '00-0030564', 'first_name': 'DeAndre', 'last_name': 'Hopkins', 'position': 'WR', 'last_changed_date': '2024-04-18'}, {'player_id': 1053, 'gsis_id': '00-0031260', 'first_name': 'Logan', 'last_name': 'Thomas', 'position': 'TE', 'last_changed_date': '2024-04-18'}, {'player_id': 1071, 'gsis_id': '00-0031595', 'first_name': 'Michael', 'last_name': 'Burton', 'position': 'RB', 'last_changed_date': '2024-04-18'}, {'player_id': 1073, 'gsis_id': '00-0031687', 'first_name': 'Raheem', 'last_name': 'Mostert', 'position': 'RB', 'last_changed_date': '2024-04-18'}]}, {'league_id': 5001, 'team_id': 1006, 'team_name': 'Wallaby Stew', 'last_changed_date': '2024-04-23', 'players': [{'player_id': 1012, 'gsis_id': '00-0027688', 'first_name': 'Colt', 'last_name': 'McCoy', 'position': 'QB', 'last_changed_date': '2024-04-18'}, {'player_id': 1026, 'gsis_id': '00-0029597', 'first_name': 'Justin', 'last_name': 'Tucker', 'position': 'K', 'last_changed_date': '2024-04-18'}, {'player_id': 1045, 'gsis_id': '00-0030663', 'first_name': 'Willie', 'last_name': 'Snead', 'position': 'WR', 'last_changed_date': '2024-04-18'}, {'player_id': 1050, 'gsis_id': '00-0031235', 'first_name': 'Odell', 'last_name': 'Beckham Jr.', 'position': 'WR', 'last_changed_date': '2024-04-18'}, {'player_id': 1056, 'gsis_id': '00-0031299', 'first_name': 'Jordan', 'last_name': 'Matthews', 'position': 'TE', 'last_changed_date': '2024-04-18'}, {'player_id': 1082, 'gsis_id': '00-0032104', 'first_name': 'Ameer', 'last_name': 'Abdullah', 'position': 'RB', 'last_changed_date': '2024-04-18'}, {'player_id': 1087, 'gsis_id': '00-0032144', 'first_name': 'Melvin', 'last_name': 'Gordon', 'position': 'RB', 'last_changed_date': '2024-04-18'}]}, {'league_id': 5001, 'team_id': 1007, 'team_name': 'Checkers Not Chess', 'last_changed_date': '2024-04-23', 'players': [{'player_id': 1015, 'gsis_id': '00-0027948', 'first_name': 'Blaine', 'last_name': 'Gabbert', 'position': 'QB', 'last_changed_date': '2024-04-18'}, {'player_id': 1028, 'gsis_id': '00-0029621', 'first_name': 'Greg', 'last_name': 'Zuerlein', 'position': 'K', 'last_changed_date': '2024-04-18'}, {'player_id': 1051, 'gsis_id': '00-0031236', 'first_name': 'Brandin', 'last_name': 'Cooks', 'position': 'WR', 'last_changed_date': '2024-04-18'}, {'player_id': 1058, 'gsis_id': '00-0031373', 'first_name': 'Martavis', 'last_name': 'Bryant', 'position': 'WR', 'last_changed_date': '2024-04-18'}, {'player_id': 1063, 'gsis_id': '00-0031484', 'first_name': 'Chris', 'last_name': 'Manhertz', 'position': 'TE', 'last_changed_date': '2024-04-18'}, {'player_id': 1101, 'gsis_id': '00-0032450', 'first_name': 'Dwayne', 'last_name': 'Washington', 'position': 'RB', 'last_changed_date': '2024-04-18'}, {'player_id': 1108, 'gsis_id': '00-0032764', 'first_name': 'Derrick', 'last_name': 'Henry', 'position': 'RB', 'last_changed_date': '2024-04-18'}]}, {'league_id': 5001, 'team_id': 1008, 'team_name': 'Defending Champs', 'last_changed_date': '2024-04-23', 'players': [{'player_id': 1016, 'gsis_id': '00-0027973', 'first_name': 'Andy', 'last_name': 'Dalton', 'position': 'QB', 'last_changed_date': '2024-04-18'}, {'player_id': 1030, 'gsis_id': '00-0029822', 'first_name': 'Brandon', 'last_name': 'McManus', 'position': 'K', 'last_changed_date': '2024-04-18'}, {'player_id': 1060, 'gsis_id': '00-0031381', 'first_name': 'Davante', 'last_name': 'Adams', 'position': 'WR', 'last_changed_date': '2024-04-18'}, {'player_id': 1061, 'gsis_id': '00-0031408', 'first_name': 'Mike', 'last_name': 'Evans', 'position': 'WR', 'last_changed_date': '2024-04-18'}, {'player_id': 1069, 'gsis_id': '00-0031585', 'first_name': 'MyCole', 'last_name': 'Pruitt', 'position': 'TE', 'last_changed_date': '2024-04-18'}, {'player_id': 1113, 'gsis_id': '00-0032918', 'first_name': 'C.J.', 'last_name': 'Ham', 'position': 'RB', 'last_changed_date': '2024-04-18'}, {'player_id': 1116, 'gsis_id': '00-0032975', 'first_name': 'Jonathan', 'last_name': 'Williams', 'position': 'RB', 'last_changed_date': '2024-04-18'}]}, {'league_id': 5001, 'team_id': 1009, 'team_name': 'Team Generic', 'last_changed_date': '2024-04-23', 'players': [{'player_id': 1019, 'gsis_id': '00-0028118', 'first_name': 'Tyrod', 'last_name': 'Taylor', 'position': 'QB', 'last_changed_date': '2024-04-18'}, {'player_id': 1035, 'gsis_id': '00-0030098', 'first_name': 'Dustin', 'last_name': 'Hopkins', 'position': 'K', 'last_changed_date': '2024-04-18'}, {'player_id': 1062, 'gsis_id': '00-0031428', 'first_name': 'Allen', 'last_name': 'Robinson', 'position': 'WR', 'last_changed_date': '2024-04-18'}, {'player_id': 1066, 'gsis_id': '00-0031544', 'first_name': 'Amari', 'last_name': 'Cooper', 'position': 'WR', 'last_changed_date': '2024-04-18'}, {'player_id': 1072, 'gsis_id': '00-0031610', 'first_name': 'Darren', 'last_name': 'Waller', 'position': 'TE', 'last_changed_date': '2024-04-18'}, {'player_id': 1121, 'gsis_id': '00-0033045', 'first_name': 'Ezekiel', 'last_name': 'Elliott', 'position': 'RB', 'last_changed_date': '2024-04-18'}, {'player_id': 1126, 'gsis_id': '00-0033118', 'first_name': 'Kenyan', 'last_name': 'Drake', 'position': 'RB', 'last_changed_date': '2024-04-18'}]}, {'league_id': 5001, 'team_id': 1010, 'team_name': 'Fumblerooski', 'last_changed_date': '2024-04-23', 'players': [{'player_id': 1020, 'gsis_id': '00-0028986', 'first_name': 'Case', 'last_name': 'Keenum', 'position': 'QB', 'last_changed_date': '2024-04-18'}, {'player_id': 1037, 'gsis_id': '00-0030332', 'first_name': 'Brett', 'last_name': 'Maher', 'position': 'K', 'last_changed_date': '2024-04-18'}, {'player_id': 1067, 'gsis_id': '00-0031547', 'first_name': 'DeVante', 'last_name': 'Parker', 'position': 'WR', 'last_changed_date': '2024-04-18'}, {'player_id': 1068, 'gsis_id': '00-0031549', 'first_name': 'Nelson', 'last_name': 'Agholor', 'position': 'WR', 'last_changed_date': '2024-04-18'}, {'player_id': 1074, 'gsis_id': '00-0031690', 'first_name': 'Eric', 'last_name': 'Tomlinson', 'position': 'TE', 'last_changed_date': '2024-04-18'}, {'player_id': 1133, 'gsis_id': '00-0033280', 'first_name': 'Christian', 'last_name': 'McCaffrey', 'position': 'RB', 'last_changed_date': '2024-04-18'}, {'player_id': 1137, 'gsis_id': '00-0033293', 'first_name': 'Aaron', 'last_name': 'Jones', 'position': 'RB', 'last_changed_date': '2024-04-18'}]}, {'league_id': 5001, 'team_id': 1011, 'team_name': 'Double Option', 'last_changed_date': '2024-04-23', 'players': [{'player_id': 1023, 'gsis_id': '00-0029263', 'first_name': 'Russell', 'last_name': 'Wilson', 'position': 'QB', 'last_changed_date': '2024-04-18'}, {'player_id': 1048, 'gsis_id': '00-0031136', 'first_name': 'Chris', 'last_name': 'Boswell', 'position': 'K', 'last_changed_date': '2024-04-18'}, {'player_id': 1070, 'gsis_id': '00-0031588', 'first_name': 'Stefon', 'last_name': 'Diggs', 'position': 'WR', 'last_changed_date': '2024-04-18'}, {'player_id': 1075, 'gsis_id': '00-0031763', 'first_name': 'DeAndre', 'last_name': 'Carter', 'position': 'WR', 'last_changed_date': '2024-04-18'}, {'player_id': 1081, 'gsis_id': '00-0032062', 'first_name': 'Blake', 'last_name': 'Bell', 'position': 'TE', 'last_changed_date': '2024-04-18'}, {'player_id': 1138, 'gsis_id': '00-0033296', 'first_name': 'Alex', 'last_name': 'Armah', 'position': 'RB', 'last_changed_date': '2024-04-18'}, {'player_id': 1141, 'gsis_id': '00-0033308', 'first_name': 'Matt', 'last_name': 'Breida', 'position': 'RB', 'last_changed_date': '2024-04-18'}]}, {'league_id': 5001, 'team_id': 1012, 'team_name': 'Wicked Awesome', 'last_changed_date': '2024-04-23', 'players': [{'player_id': 1027, 'gsis_id': '00-0029604', 'first_name': 'Kirk', 'last_name': 'Cousins', 'position': 'QB', 'last_changed_date': '2024-04-18'}, {'player_id': 1049, 'gsis_id': '00-0031203', 'first_name': 'Cairo', 'last_name': 'Santos', 'position': 'K', 'last_changed_date': '2024-04-18'}, {'player_id': 1077, 'gsis_id': '00-0031868', 'first_name': 'Damiere', 'last_name': 'Byrd', 'position': 'WR', 'last_changed_date': '2024-04-18'}, {'player_id': 1078, 'gsis_id': '00-0031941', 'first_name': 'Jamison', 'last_name': 'Crowder', 'position': 'WR', 'last_changed_date': '2024-04-18'}, {'player_id': 1084, 'gsis_id': '00-0032134', 'first_name': 'C.J.', 'last_name': 'Uzomah', 'position': 'TE', 'last_changed_date': '2024-04-18'}, {'player_id': 1145, 'gsis_id': '00-0033376', 'first_name': 'Patrick', 'last_name': 'Ricard', 'position': 'RB', 'last_changed_date': '2024-04-18'}, {'player_id': 1153, 'gsis_id': '00-0033526', 'first_name': 'Samaje', 'last_name': 'Perine', 'position': 'RB', 'last_changed_date': '2024-04-18'}]}]\n"
     ]
    }
   ],
   "source": [
    "endpoint = \"/v0/teams/\"\n",
    "query_string_parameters = {'league_id': '5001'}\n",
    "api_response = httpx.get(base_url + endpoint, params=query_string_parameters)\n",
    "teams_data = api_response.json()\n",
    "print(teams_data)\n"
   ]
  },
  {
   "cell_type": "markdown",
   "metadata": {},
   "source": []
  },
  {
   "cell_type": "markdown",
   "metadata": {},
   "source": [
    "## Creating a Pandas DataFrame\n"
   ]
  },
  {
   "cell_type": "code",
   "execution_count": 7,
   "metadata": {},
   "outputs": [
    {
     "data": {
      "text/html": [
       "<div>\n",
       "<style scoped>\n",
       "    .dataframe tbody tr th:only-of-type {\n",
       "        vertical-align: middle;\n",
       "    }\n",
       "\n",
       "    .dataframe tbody tr th {\n",
       "        vertical-align: top;\n",
       "    }\n",
       "\n",
       "    .dataframe thead th {\n",
       "        text-align: right;\n",
       "    }\n",
       "</style>\n",
       "<table border=\"1\" class=\"dataframe\">\n",
       "  <thead>\n",
       "    <tr style=\"text-align: right;\">\n",
       "      <th></th>\n",
       "      <th>league_id</th>\n",
       "      <th>team_id</th>\n",
       "      <th>team_name</th>\n",
       "      <th>last_changed_date</th>\n",
       "      <th>players</th>\n",
       "    </tr>\n",
       "  </thead>\n",
       "  <tbody>\n",
       "    <tr>\n",
       "      <th>0</th>\n",
       "      <td>5001</td>\n",
       "      <td>1001</td>\n",
       "      <td>Roaring Kitties</td>\n",
       "      <td>2024-04-23</td>\n",
       "      <td>[{'player_id': 1001, 'gsis_id': '00-0023459', ...</td>\n",
       "    </tr>\n",
       "    <tr>\n",
       "      <th>1</th>\n",
       "      <td>5001</td>\n",
       "      <td>1002</td>\n",
       "      <td>Pigskin Party</td>\n",
       "      <td>2024-04-23</td>\n",
       "      <td>[{'player_id': 1004, 'gsis_id': '00-0025565', ...</td>\n",
       "    </tr>\n",
       "    <tr>\n",
       "      <th>2</th>\n",
       "      <td>5001</td>\n",
       "      <td>1003</td>\n",
       "      <td>Dallas Steers</td>\n",
       "      <td>2024-04-23</td>\n",
       "      <td>[{'player_id': 1005, 'gsis_id': '00-0025580', ...</td>\n",
       "    </tr>\n",
       "    <tr>\n",
       "      <th>3</th>\n",
       "      <td>5001</td>\n",
       "      <td>1004</td>\n",
       "      <td>Never Gonna Give Up</td>\n",
       "      <td>2024-04-23</td>\n",
       "      <td>[{'player_id': 1009, 'gsis_id': '00-0026498', ...</td>\n",
       "    </tr>\n",
       "    <tr>\n",
       "      <th>4</th>\n",
       "      <td>5001</td>\n",
       "      <td>1005</td>\n",
       "      <td>Fighting Catfish</td>\n",
       "      <td>2024-04-23</td>\n",
       "      <td>[{'player_id': 1010, 'gsis_id': '00-0026625', ...</td>\n",
       "    </tr>\n",
       "    <tr>\n",
       "      <th>5</th>\n",
       "      <td>5001</td>\n",
       "      <td>1006</td>\n",
       "      <td>Wallaby Stew</td>\n",
       "      <td>2024-04-23</td>\n",
       "      <td>[{'player_id': 1012, 'gsis_id': '00-0027688', ...</td>\n",
       "    </tr>\n",
       "    <tr>\n",
       "      <th>6</th>\n",
       "      <td>5001</td>\n",
       "      <td>1007</td>\n",
       "      <td>Checkers Not Chess</td>\n",
       "      <td>2024-04-23</td>\n",
       "      <td>[{'player_id': 1015, 'gsis_id': '00-0027948', ...</td>\n",
       "    </tr>\n",
       "    <tr>\n",
       "      <th>7</th>\n",
       "      <td>5001</td>\n",
       "      <td>1008</td>\n",
       "      <td>Defending Champs</td>\n",
       "      <td>2024-04-23</td>\n",
       "      <td>[{'player_id': 1016, 'gsis_id': '00-0027973', ...</td>\n",
       "    </tr>\n",
       "    <tr>\n",
       "      <th>8</th>\n",
       "      <td>5001</td>\n",
       "      <td>1009</td>\n",
       "      <td>Team Generic</td>\n",
       "      <td>2024-04-23</td>\n",
       "      <td>[{'player_id': 1019, 'gsis_id': '00-0028118', ...</td>\n",
       "    </tr>\n",
       "    <tr>\n",
       "      <th>9</th>\n",
       "      <td>5001</td>\n",
       "      <td>1010</td>\n",
       "      <td>Fumblerooski</td>\n",
       "      <td>2024-04-23</td>\n",
       "      <td>[{'player_id': 1020, 'gsis_id': '00-0028986', ...</td>\n",
       "    </tr>\n",
       "    <tr>\n",
       "      <th>10</th>\n",
       "      <td>5001</td>\n",
       "      <td>1011</td>\n",
       "      <td>Double Option</td>\n",
       "      <td>2024-04-23</td>\n",
       "      <td>[{'player_id': 1023, 'gsis_id': '00-0029263', ...</td>\n",
       "    </tr>\n",
       "    <tr>\n",
       "      <th>11</th>\n",
       "      <td>5001</td>\n",
       "      <td>1012</td>\n",
       "      <td>Wicked Awesome</td>\n",
       "      <td>2024-04-23</td>\n",
       "      <td>[{'player_id': 1027, 'gsis_id': '00-0029604', ...</td>\n",
       "    </tr>\n",
       "  </tbody>\n",
       "</table>\n",
       "</div>"
      ],
      "text/plain": [
       "    league_id  team_id            team_name last_changed_date                                            players\n",
       "0        5001     1001      Roaring Kitties        2024-04-23  [{'player_id': 1001, 'gsis_id': '00-0023459', ...\n",
       "1        5001     1002        Pigskin Party        2024-04-23  [{'player_id': 1004, 'gsis_id': '00-0025565', ...\n",
       "2        5001     1003        Dallas Steers        2024-04-23  [{'player_id': 1005, 'gsis_id': '00-0025580', ...\n",
       "3        5001     1004  Never Gonna Give Up        2024-04-23  [{'player_id': 1009, 'gsis_id': '00-0026498', ...\n",
       "4        5001     1005     Fighting Catfish        2024-04-23  [{'player_id': 1010, 'gsis_id': '00-0026625', ...\n",
       "5        5001     1006         Wallaby Stew        2024-04-23  [{'player_id': 1012, 'gsis_id': '00-0027688', ...\n",
       "6        5001     1007   Checkers Not Chess        2024-04-23  [{'player_id': 1015, 'gsis_id': '00-0027948', ...\n",
       "7        5001     1008     Defending Champs        2024-04-23  [{'player_id': 1016, 'gsis_id': '00-0027973', ...\n",
       "8        5001     1009         Team Generic        2024-04-23  [{'player_id': 1019, 'gsis_id': '00-0028118', ...\n",
       "9        5001     1010         Fumblerooski        2024-04-23  [{'player_id': 1020, 'gsis_id': '00-0028986', ...\n",
       "10       5001     1011        Double Option        2024-04-23  [{'player_id': 1023, 'gsis_id': '00-0029263', ...\n",
       "11       5001     1012       Wicked Awesome        2024-04-23  [{'player_id': 1027, 'gsis_id': '00-0029604', ..."
      ]
     },
     "metadata": {},
     "output_type": "display_data"
    }
   ],
   "source": [
    "import pandas as pd\n",
    "pd.set_option('display.expand_frame_repr', False)\n",
    "pd.set_option('display.max_columns', None)\n",
    "teams_df = pd.DataFrame.from_dict(teams_data)\n",
    "display(teams_df)\n"
   ]
  },
  {
   "cell_type": "code",
   "execution_count": 8,
   "metadata": {},
   "outputs": [
    {
     "name": "stdout",
     "output_type": "stream",
     "text": [
      "<class 'pandas.core.series.Series'>\n",
      "<class 'list'>\n",
      "<class 'dict'>\n"
     ]
    }
   ],
   "source": [
    "print(type(teams_df.players))\n",
    "print(type(teams_df.players[0]))\n",
    "print(type(teams_df.players[0][0]))"
   ]
  },
  {
   "cell_type": "markdown",
   "metadata": {},
   "source": [
    "## Get a flattened DataFrame, using json_normalize()"
   ]
  },
  {
   "cell_type": "code",
   "execution_count": 9,
   "metadata": {},
   "outputs": [
    {
     "data": {
      "text/html": [
       "<div>\n",
       "<style scoped>\n",
       "    .dataframe tbody tr th:only-of-type {\n",
       "        vertical-align: middle;\n",
       "    }\n",
       "\n",
       "    .dataframe tbody tr th {\n",
       "        vertical-align: top;\n",
       "    }\n",
       "\n",
       "    .dataframe thead th {\n",
       "        text-align: right;\n",
       "    }\n",
       "</style>\n",
       "<table border=\"1\" class=\"dataframe\">\n",
       "  <thead>\n",
       "    <tr style=\"text-align: right;\">\n",
       "      <th></th>\n",
       "      <th>team_id</th>\n",
       "      <th>team_name</th>\n",
       "      <th>position</th>\n",
       "      <th>player_id</th>\n",
       "      <th>gsis_id</th>\n",
       "      <th>first_name</th>\n",
       "      <th>last_name</th>\n",
       "    </tr>\n",
       "  </thead>\n",
       "  <tbody>\n",
       "    <tr>\n",
       "      <th>0</th>\n",
       "      <td>1001</td>\n",
       "      <td>Roaring Kitties</td>\n",
       "      <td>QB</td>\n",
       "      <td>1001</td>\n",
       "      <td>00-0023459</td>\n",
       "      <td>Aaron</td>\n",
       "      <td>Rodgers</td>\n",
       "    </tr>\n",
       "    <tr>\n",
       "      <th>1</th>\n",
       "      <td>1001</td>\n",
       "      <td>Roaring Kitties</td>\n",
       "      <td>K</td>\n",
       "      <td>1002</td>\n",
       "      <td>00-0023853</td>\n",
       "      <td>Matt</td>\n",
       "      <td>Prater</td>\n",
       "    </tr>\n",
       "    <tr>\n",
       "      <th>2</th>\n",
       "      <td>1001</td>\n",
       "      <td>Roaring Kitties</td>\n",
       "      <td>TE</td>\n",
       "      <td>1003</td>\n",
       "      <td>00-0024243</td>\n",
       "      <td>Marcedes</td>\n",
       "      <td>Lewis</td>\n",
       "    </tr>\n",
       "    <tr>\n",
       "      <th>3</th>\n",
       "      <td>1001</td>\n",
       "      <td>Roaring Kitties</td>\n",
       "      <td>WR</td>\n",
       "      <td>1007</td>\n",
       "      <td>00-0026293</td>\n",
       "      <td>Matt</td>\n",
       "      <td>Slater</td>\n",
       "    </tr>\n",
       "    <tr>\n",
       "      <th>4</th>\n",
       "      <td>1001</td>\n",
       "      <td>Roaring Kitties</td>\n",
       "      <td>WR</td>\n",
       "      <td>1014</td>\n",
       "      <td>00-0027944</td>\n",
       "      <td>Julio</td>\n",
       "      <td>Jones</td>\n",
       "    </tr>\n",
       "    <tr>\n",
       "      <th>...</th>\n",
       "      <td>...</td>\n",
       "      <td>...</td>\n",
       "      <td>...</td>\n",
       "      <td>...</td>\n",
       "      <td>...</td>\n",
       "      <td>...</td>\n",
       "      <td>...</td>\n",
       "    </tr>\n",
       "    <tr>\n",
       "      <th>79</th>\n",
       "      <td>1012</td>\n",
       "      <td>Wicked Awesome</td>\n",
       "      <td>WR</td>\n",
       "      <td>1077</td>\n",
       "      <td>00-0031868</td>\n",
       "      <td>Damiere</td>\n",
       "      <td>Byrd</td>\n",
       "    </tr>\n",
       "    <tr>\n",
       "      <th>80</th>\n",
       "      <td>1012</td>\n",
       "      <td>Wicked Awesome</td>\n",
       "      <td>WR</td>\n",
       "      <td>1078</td>\n",
       "      <td>00-0031941</td>\n",
       "      <td>Jamison</td>\n",
       "      <td>Crowder</td>\n",
       "    </tr>\n",
       "    <tr>\n",
       "      <th>81</th>\n",
       "      <td>1012</td>\n",
       "      <td>Wicked Awesome</td>\n",
       "      <td>TE</td>\n",
       "      <td>1084</td>\n",
       "      <td>00-0032134</td>\n",
       "      <td>C.J.</td>\n",
       "      <td>Uzomah</td>\n",
       "    </tr>\n",
       "    <tr>\n",
       "      <th>82</th>\n",
       "      <td>1012</td>\n",
       "      <td>Wicked Awesome</td>\n",
       "      <td>RB</td>\n",
       "      <td>1145</td>\n",
       "      <td>00-0033376</td>\n",
       "      <td>Patrick</td>\n",
       "      <td>Ricard</td>\n",
       "    </tr>\n",
       "    <tr>\n",
       "      <th>83</th>\n",
       "      <td>1012</td>\n",
       "      <td>Wicked Awesome</td>\n",
       "      <td>RB</td>\n",
       "      <td>1153</td>\n",
       "      <td>00-0033526</td>\n",
       "      <td>Samaje</td>\n",
       "      <td>Perine</td>\n",
       "    </tr>\n",
       "  </tbody>\n",
       "</table>\n",
       "<p>84 rows × 7 columns</p>\n",
       "</div>"
      ],
      "text/plain": [
       "   team_id        team_name position  player_id     gsis_id first_name last_name\n",
       "0     1001  Roaring Kitties       QB       1001  00-0023459      Aaron   Rodgers\n",
       "1     1001  Roaring Kitties        K       1002  00-0023853       Matt    Prater\n",
       "2     1001  Roaring Kitties       TE       1003  00-0024243   Marcedes     Lewis\n",
       "3     1001  Roaring Kitties       WR       1007  00-0026293       Matt    Slater\n",
       "4     1001  Roaring Kitties       WR       1014  00-0027944      Julio     Jones\n",
       "..     ...              ...      ...        ...         ...        ...       ...\n",
       "79    1012   Wicked Awesome       WR       1077  00-0031868    Damiere      Byrd\n",
       "80    1012   Wicked Awesome       WR       1078  00-0031941    Jamison   Crowder\n",
       "81    1012   Wicked Awesome       TE       1084  00-0032134       C.J.    Uzomah\n",
       "82    1012   Wicked Awesome       RB       1145  00-0033376    Patrick    Ricard\n",
       "83    1012   Wicked Awesome       RB       1153  00-0033526     Samaje    Perine\n",
       "\n",
       "[84 rows x 7 columns]"
      ]
     },
     "metadata": {},
     "output_type": "display_data"
    }
   ],
   "source": [
    "flat_team_df = pd.json_normalize(teams_data, 'players', ['team_id', 'team_name'])\n",
    "column_order = ['team_id','team_name','position','player_id', 'gsis_id', 'first_name', 'last_name']\n",
    "flat_team_df_ordered = flat_team_df[column_order]\n",
    "display(flat_team_df_ordered)  "
   ]
  },
  {
   "cell_type": "markdown",
   "metadata": {},
   "source": [
    "# Enrich with more NFL data"
   ]
  },
  {
   "cell_type": "code",
   "execution_count": 10,
   "metadata": {},
   "outputs": [
    {
     "name": "stdout",
     "output_type": "stream",
     "text": [
      "Requirement already satisfied: nfl-data-py in /usr/local/python/3.10.13/lib/python3.10/site-packages (0.3.1)\n",
      "Requirement already satisfied: pandas>1 in /home/codespace/.local/lib/python3.10/site-packages (from nfl-data-py) (2.2.2)\n",
      "Requirement already satisfied: appdirs>1 in /usr/local/python/3.10.13/lib/python3.10/site-packages (from nfl-data-py) (1.4.4)\n",
      "Requirement already satisfied: fastparquet>0.5 in /usr/local/python/3.10.13/lib/python3.10/site-packages (from nfl-data-py) (2024.5.0)\n",
      "Requirement already satisfied: python-snappy>0.5 in /usr/local/python/3.10.13/lib/python3.10/site-packages (from nfl-data-py) (0.7.2)\n",
      "Requirement already satisfied: numpy in /home/codespace/.local/lib/python3.10/site-packages (from fastparquet>0.5->nfl-data-py) (1.26.4)\n",
      "Requirement already satisfied: cramjam>=2.3 in /usr/local/python/3.10.13/lib/python3.10/site-packages (from fastparquet>0.5->nfl-data-py) (2.8.3)\n",
      "Requirement already satisfied: fsspec in /home/codespace/.local/lib/python3.10/site-packages (from fastparquet>0.5->nfl-data-py) (2024.5.0)\n",
      "Requirement already satisfied: packaging in /home/codespace/.local/lib/python3.10/site-packages (from fastparquet>0.5->nfl-data-py) (24.0)\n",
      "Requirement already satisfied: python-dateutil>=2.8.2 in /home/codespace/.local/lib/python3.10/site-packages (from pandas>1->nfl-data-py) (2.9.0.post0)\n",
      "Requirement already satisfied: pytz>=2020.1 in /home/codespace/.local/lib/python3.10/site-packages (from pandas>1->nfl-data-py) (2024.1)\n",
      "Requirement already satisfied: tzdata>=2022.7 in /home/codespace/.local/lib/python3.10/site-packages (from pandas>1->nfl-data-py) (2024.1)\n",
      "Requirement already satisfied: six>=1.5 in /home/codespace/.local/lib/python3.10/site-packages (from python-dateutil>=2.8.2->pandas>1->nfl-data-py) (1.16.0)\n",
      "\n",
      "\u001b[1m[\u001b[0m\u001b[34;49mnotice\u001b[0m\u001b[1;39;49m]\u001b[0m\u001b[39;49m A new release of pip is available: \u001b[0m\u001b[31;49m24.0\u001b[0m\u001b[39;49m -> \u001b[0m\u001b[32;49m24.1.1\u001b[0m\n",
      "\u001b[1m[\u001b[0m\u001b[34;49mnotice\u001b[0m\u001b[1;39;49m]\u001b[0m\u001b[39;49m To update, run: \u001b[0m\u001b[32;49mpip install --upgrade pip\u001b[0m\n",
      "Note: you may need to restart the kernel to use updated packages.\n"
     ]
    }
   ],
   "source": [
    "%pip install nfl-data-py"
   ]
  },
  {
   "cell_type": "code",
   "execution_count": 20,
   "metadata": {},
   "outputs": [
    {
     "data": {
      "text/html": [
       "<div>\n",
       "<style scoped>\n",
       "    .dataframe tbody tr th:only-of-type {\n",
       "        vertical-align: middle;\n",
       "    }\n",
       "\n",
       "    .dataframe tbody tr th {\n",
       "        vertical-align: top;\n",
       "    }\n",
       "\n",
       "    .dataframe thead th {\n",
       "        text-align: right;\n",
       "    }\n",
       "</style>\n",
       "<table border=\"1\" class=\"dataframe\">\n",
       "  <thead>\n",
       "    <tr style=\"text-align: right;\">\n",
       "      <th></th>\n",
       "      <th>player_id</th>\n",
       "      <th>fantasy_points_ppr</th>\n",
       "    </tr>\n",
       "  </thead>\n",
       "  <tbody>\n",
       "    <tr>\n",
       "      <th>0</th>\n",
       "      <td>00-0023459</td>\n",
       "      <td>0.00</td>\n",
       "    </tr>\n",
       "    <tr>\n",
       "      <th>1</th>\n",
       "      <td>00-0024243</td>\n",
       "      <td>12.90</td>\n",
       "    </tr>\n",
       "    <tr>\n",
       "      <th>2</th>\n",
       "      <td>00-0026158</td>\n",
       "      <td>100.84</td>\n",
       "    </tr>\n",
       "    <tr>\n",
       "      <th>3</th>\n",
       "      <td>00-0026498</td>\n",
       "      <td>243.10</td>\n",
       "    </tr>\n",
       "    <tr>\n",
       "      <th>4</th>\n",
       "      <td>00-0026625</td>\n",
       "      <td>4.94</td>\n",
       "    </tr>\n",
       "    <tr>\n",
       "      <th>...</th>\n",
       "      <td>...</td>\n",
       "      <td>...</td>\n",
       "    </tr>\n",
       "    <tr>\n",
       "      <th>583</th>\n",
       "      <td>00-0039150</td>\n",
       "      <td>156.38</td>\n",
       "    </tr>\n",
       "    <tr>\n",
       "      <th>584</th>\n",
       "      <td>00-0039152</td>\n",
       "      <td>102.02</td>\n",
       "    </tr>\n",
       "    <tr>\n",
       "      <th>585</th>\n",
       "      <td>00-0039163</td>\n",
       "      <td>275.02</td>\n",
       "    </tr>\n",
       "    <tr>\n",
       "      <th>586</th>\n",
       "      <td>00-0039164</td>\n",
       "      <td>72.68</td>\n",
       "    </tr>\n",
       "    <tr>\n",
       "      <th>587</th>\n",
       "      <td>00-0039165</td>\n",
       "      <td>106.10</td>\n",
       "    </tr>\n",
       "  </tbody>\n",
       "</table>\n",
       "<p>588 rows × 2 columns</p>\n",
       "</div>"
      ],
      "text/plain": [
       "      player_id  fantasy_points_ppr\n",
       "0    00-0023459                0.00\n",
       "1    00-0024243               12.90\n",
       "2    00-0026158              100.84\n",
       "3    00-0026498              243.10\n",
       "4    00-0026625                4.94\n",
       "..          ...                 ...\n",
       "583  00-0039150              156.38\n",
       "584  00-0039152              102.02\n",
       "585  00-0039163              275.02\n",
       "586  00-0039164               72.68\n",
       "587  00-0039165              106.10\n",
       "\n",
       "[588 rows x 2 columns]"
      ]
     },
     "metadata": {},
     "output_type": "display_data"
    }
   ],
   "source": [
    "import nfl_data_py as nfl\n",
    "\n",
    "nfl_data_2023_df = nfl.import_seasonal_data([2023], 'REG')\n",
    "columns_to_select = ['player_id', 'fantasy_points_ppr']\n",
    "nfl_data_2023_subset_df = nfl_data_2023_df[columns_to_select]\n",
    "display(nfl_data_2023_subset_df)"
   ]
  },
  {
   "cell_type": "markdown",
   "metadata": {},
   "source": [
    "## Combine these two data sources"
   ]
  },
  {
   "cell_type": "code",
   "execution_count": 21,
   "metadata": {},
   "outputs": [
    {
     "data": {
      "text/html": [
       "<div>\n",
       "<style scoped>\n",
       "    .dataframe tbody tr th:only-of-type {\n",
       "        vertical-align: middle;\n",
       "    }\n",
       "\n",
       "    .dataframe tbody tr th {\n",
       "        vertical-align: top;\n",
       "    }\n",
       "\n",
       "    .dataframe thead th {\n",
       "        text-align: right;\n",
       "    }\n",
       "</style>\n",
       "<table border=\"1\" class=\"dataframe\">\n",
       "  <thead>\n",
       "    <tr style=\"text-align: right;\">\n",
       "      <th></th>\n",
       "      <th>team_id</th>\n",
       "      <th>team_name</th>\n",
       "      <th>position</th>\n",
       "      <th>player_id_x</th>\n",
       "      <th>gsis_id</th>\n",
       "      <th>first_name</th>\n",
       "      <th>last_name</th>\n",
       "      <th>player_id_y</th>\n",
       "      <th>fantasy_points_ppr</th>\n",
       "    </tr>\n",
       "  </thead>\n",
       "  <tbody>\n",
       "    <tr>\n",
       "      <th>0</th>\n",
       "      <td>1001</td>\n",
       "      <td>Roaring Kitties</td>\n",
       "      <td>QB</td>\n",
       "      <td>1001</td>\n",
       "      <td>00-0023459</td>\n",
       "      <td>Aaron</td>\n",
       "      <td>Rodgers</td>\n",
       "      <td>00-0023459</td>\n",
       "      <td>0.0</td>\n",
       "    </tr>\n",
       "    <tr>\n",
       "      <th>1</th>\n",
       "      <td>1001</td>\n",
       "      <td>Roaring Kitties</td>\n",
       "      <td>K</td>\n",
       "      <td>1002</td>\n",
       "      <td>00-0023853</td>\n",
       "      <td>Matt</td>\n",
       "      <td>Prater</td>\n",
       "      <td>NaN</td>\n",
       "      <td>NaN</td>\n",
       "    </tr>\n",
       "    <tr>\n",
       "      <th>2</th>\n",
       "      <td>1001</td>\n",
       "      <td>Roaring Kitties</td>\n",
       "      <td>TE</td>\n",
       "      <td>1003</td>\n",
       "      <td>00-0024243</td>\n",
       "      <td>Marcedes</td>\n",
       "      <td>Lewis</td>\n",
       "      <td>00-0024243</td>\n",
       "      <td>12.9</td>\n",
       "    </tr>\n",
       "    <tr>\n",
       "      <th>3</th>\n",
       "      <td>1001</td>\n",
       "      <td>Roaring Kitties</td>\n",
       "      <td>WR</td>\n",
       "      <td>1007</td>\n",
       "      <td>00-0026293</td>\n",
       "      <td>Matt</td>\n",
       "      <td>Slater</td>\n",
       "      <td>NaN</td>\n",
       "      <td>NaN</td>\n",
       "    </tr>\n",
       "    <tr>\n",
       "      <th>4</th>\n",
       "      <td>1001</td>\n",
       "      <td>Roaring Kitties</td>\n",
       "      <td>WR</td>\n",
       "      <td>1014</td>\n",
       "      <td>00-0027944</td>\n",
       "      <td>Julio</td>\n",
       "      <td>Jones</td>\n",
       "      <td>00-0027944</td>\n",
       "      <td>36.4</td>\n",
       "    </tr>\n",
       "    <tr>\n",
       "      <th>...</th>\n",
       "      <td>...</td>\n",
       "      <td>...</td>\n",
       "      <td>...</td>\n",
       "      <td>...</td>\n",
       "      <td>...</td>\n",
       "      <td>...</td>\n",
       "      <td>...</td>\n",
       "      <td>...</td>\n",
       "      <td>...</td>\n",
       "    </tr>\n",
       "    <tr>\n",
       "      <th>79</th>\n",
       "      <td>1012</td>\n",
       "      <td>Wicked Awesome</td>\n",
       "      <td>WR</td>\n",
       "      <td>1077</td>\n",
       "      <td>00-0031868</td>\n",
       "      <td>Damiere</td>\n",
       "      <td>Byrd</td>\n",
       "      <td>00-0031868</td>\n",
       "      <td>0.0</td>\n",
       "    </tr>\n",
       "    <tr>\n",
       "      <th>80</th>\n",
       "      <td>1012</td>\n",
       "      <td>Wicked Awesome</td>\n",
       "      <td>WR</td>\n",
       "      <td>1078</td>\n",
       "      <td>00-0031941</td>\n",
       "      <td>Jamison</td>\n",
       "      <td>Crowder</td>\n",
       "      <td>00-0031941</td>\n",
       "      <td>37.9</td>\n",
       "    </tr>\n",
       "    <tr>\n",
       "      <th>81</th>\n",
       "      <td>1012</td>\n",
       "      <td>Wicked Awesome</td>\n",
       "      <td>TE</td>\n",
       "      <td>1084</td>\n",
       "      <td>00-0032134</td>\n",
       "      <td>C.J.</td>\n",
       "      <td>Uzomah</td>\n",
       "      <td>00-0032134</td>\n",
       "      <td>19.8</td>\n",
       "    </tr>\n",
       "    <tr>\n",
       "      <th>82</th>\n",
       "      <td>1012</td>\n",
       "      <td>Wicked Awesome</td>\n",
       "      <td>RB</td>\n",
       "      <td>1145</td>\n",
       "      <td>00-0033376</td>\n",
       "      <td>Patrick</td>\n",
       "      <td>Ricard</td>\n",
       "      <td>00-0033376</td>\n",
       "      <td>16.2</td>\n",
       "    </tr>\n",
       "    <tr>\n",
       "      <th>83</th>\n",
       "      <td>1012</td>\n",
       "      <td>Wicked Awesome</td>\n",
       "      <td>RB</td>\n",
       "      <td>1153</td>\n",
       "      <td>00-0033526</td>\n",
       "      <td>Samaje</td>\n",
       "      <td>Perine</td>\n",
       "      <td>00-0033526</td>\n",
       "      <td>121.3</td>\n",
       "    </tr>\n",
       "  </tbody>\n",
       "</table>\n",
       "<p>84 rows × 9 columns</p>\n",
       "</div>"
      ],
      "text/plain": [
       "   team_id        team_name position  player_id_x     gsis_id first_name last_name player_id_y  fantasy_points_ppr\n",
       "0     1001  Roaring Kitties       QB         1001  00-0023459      Aaron   Rodgers  00-0023459                 0.0\n",
       "1     1001  Roaring Kitties        K         1002  00-0023853       Matt    Prater         NaN                 NaN\n",
       "2     1001  Roaring Kitties       TE         1003  00-0024243   Marcedes     Lewis  00-0024243                12.9\n",
       "3     1001  Roaring Kitties       WR         1007  00-0026293       Matt    Slater         NaN                 NaN\n",
       "4     1001  Roaring Kitties       WR         1014  00-0027944      Julio     Jones  00-0027944                36.4\n",
       "..     ...              ...      ...          ...         ...        ...       ...         ...                 ...\n",
       "79    1012   Wicked Awesome       WR         1077  00-0031868    Damiere      Byrd  00-0031868                 0.0\n",
       "80    1012   Wicked Awesome       WR         1078  00-0031941    Jamison   Crowder  00-0031941                37.9\n",
       "81    1012   Wicked Awesome       TE         1084  00-0032134       C.J.    Uzomah  00-0032134                19.8\n",
       "82    1012   Wicked Awesome       RB         1145  00-0033376    Patrick    Ricard  00-0033376                16.2\n",
       "83    1012   Wicked Awesome       RB         1153  00-0033526     Samaje    Perine  00-0033526               121.3\n",
       "\n",
       "[84 rows x 9 columns]"
      ]
     },
     "metadata": {},
     "output_type": "display_data"
    }
   ],
   "source": [
    "merged_df = pd.merge(flat_team_df_ordered,nfl_data_2023_subset_df,'left',left_on='gsis_id',right_on='player_id')\n",
    "display(merged_df)"
   ]
  },
  {
   "cell_type": "markdown",
   "metadata": {},
   "source": [
    "## Create a bar chart with data"
   ]
  },
  {
   "cell_type": "code",
   "execution_count": 22,
   "metadata": {},
   "outputs": [
    {
     "data": {
      "text/plain": [
       "team_name\n",
       "Checkers Not Chess     429.36\n",
       "Dallas Steers          333.60\n",
       "Defending Champs       607.54\n",
       "Double Option          603.20\n",
       "Fighting Catfish       719.04\n",
       "Fumblerooski           705.44\n",
       "Never Gonna Give Up    846.02\n",
       "Pigskin Party          273.04\n",
       "Roaring Kitties         60.40\n",
       "Team Generic           667.14\n",
       "Wallaby Stew           171.60\n",
       "Wicked Awesome         344.94\n",
       "Name: fantasy_points_ppr, dtype: float64"
      ]
     },
     "metadata": {},
     "output_type": "display_data"
    }
   ],
   "source": [
    "#grouped_df = merged_df.groupby('team_name', as_index=False)['fantasy_points_ppr'].sum()\n",
    "grouped_df = merged_df.groupby('team_name')['fantasy_points_ppr'].sum()\n",
    "display(grouped_df)"
   ]
  },
  {
   "cell_type": "code",
   "execution_count": 23,
   "metadata": {},
   "outputs": [
    {
     "data": {
      "text/plain": [
       "<Axes: xlabel='team_name'>"
      ]
     },
     "execution_count": 23,
     "metadata": {},
     "output_type": "execute_result"
    },
    {
     "data": {
      "image/png": "[encoded data removed]",
      "text/plain": [
       "<Figure size 640x480 with 1 Axes>"
      ]
     },
     "metadata": {},
     "output_type": "display_data"
    }
   ],
   "source": [
    "grouped_df.plot(kind=\"bar\")"
   ]
  },
  {
   "cell_type": "code",
   "execution_count": null,
   "metadata": {},
   "outputs": [],
   "source": []
  }
 ],
 "metadata": {
  "kernelspec": {
   "display_name": "Python 3",
   "language": "python",
   "name": "python3"
  },
  "language_info": {
   "codemirror_mode": {
    "name": "ipython",
    "version": 3
   },
   "file_extension": ".py",
   "mimetype": "text/x-python",
   "name": "python",
   "nbconvert_exporter": "python",
   "pygments_lexer": "ipython3",
   "version": "3.10.13"
  }
 },
 "nbformat": 4,
 "nbformat_minor": 2
}
