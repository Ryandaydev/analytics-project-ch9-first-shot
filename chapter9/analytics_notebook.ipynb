{
 "cells": [
  {
   "cell_type": "code",
   "execution_count": 1,
   "metadata": {},
   "outputs": [
    {
     "name": "stdout",
     "output_type": "stream",
     "text": [
      "My Codespace is working now\n"
     ]
    }
   ],
   "source": [
    "print(\"My Codespace is working now\")"
   ]
  },
  {
   "cell_type": "markdown",
   "metadata": {},
   "source": [
    "# Calling the SWC API\n",
    "\n",
    "## Calling the Health Check endpoint with httpx"
   ]
  },
  {
   "cell_type": "code",
   "execution_count": 1,
   "metadata": {},
   "outputs": [
    {
     "name": "stdout",
     "output_type": "stream",
     "text": [
      "200\n",
      "{'message': 'API health check successful'}\n"
     ]
    }
   ],
   "source": [
    "import httpx\n",
    "\n",
    "base_url = \"https://api.sportsworldcentral.com\"\n",
    "endpoint = \"/\"\n",
    "\n",
    "api_response = httpx.get(base_url + endpoint)\n",
    "print(api_response.status_code)\n",
    "print(api_response.json())\n"
   ]
  },
  {
   "cell_type": "markdown",
   "metadata": {},
   "source": [
    "## Gathering team rosters"
   ]
  },
  {
   "cell_type": "code",
   "execution_count": 2,
   "metadata": {},
   "outputs": [
    {
     "name": "stdout",
     "output_type": "stream",
     "text": [
      "200\n",
      "[{'league_id': 5001, 'league_name': 'Pigskin Prodigal Fantasy League', 'scoring_type': 'PPR', 'last_changed_date': '2024-04-22', 'teams': [{'league_id': 5001, 'team_id': 1007, 'team_name': 'Checkers Not Chess', 'last_changed_date': '2024-04-22'}, {'league_id': 5001, 'team_id': 1003, 'team_name': 'Dallas Steers', 'last_changed_date': '2024-04-22'}, {'league_id': 5001, 'team_id': 1008, 'team_name': 'Defending Champs', 'last_changed_date': '2024-04-22'}, {'league_id': 5001, 'team_id': 1011, 'team_name': 'Double Option', 'last_changed_date': '2024-04-22'}, {'league_id': 5001, 'team_id': 1005, 'team_name': 'Fighting Catfish', 'last_changed_date': '2024-04-22'}, {'league_id': 5001, 'team_id': 1010, 'team_name': 'Fumblerooski', 'last_changed_date': '2024-04-22'}, {'league_id': 5001, 'team_id': 1004, 'team_name': 'Never Gonna Give Up', 'last_changed_date': '2024-04-22'}, {'league_id': 5001, 'team_id': 1002, 'team_name': 'Pigskin Party', 'last_changed_date': '2024-04-22'}, {'league_id': 5001, 'team_id': 1001, 'team_name': 'Roaring Kitties', 'last_changed_date': '2024-04-22'}, {'league_id': 5001, 'team_id': 1009, 'team_name': 'Team Generic', 'last_changed_date': '2024-04-22'}, {'league_id': 5001, 'team_id': 1006, 'team_name': 'Wallaby Stew', 'last_changed_date': '2024-04-22'}, {'league_id': 5001, 'team_id': 1012, 'team_name': 'Wicked Awesome', 'last_changed_date': '2024-04-22'}]}, {'league_id': 5002, 'league_name': 'Recurring Champions League', 'scoring_type': 'Half-PPR', 'last_changed_date': '2024-04-22', 'teams': [{'league_id': 5002, 'team_id': 1019, 'team_name': 'Blitz Platoon', 'last_changed_date': '2024-04-22'}, {'league_id': 5002, 'team_id': 1016, 'team_name': 'Couch Potatoes', 'last_changed_date': '2024-04-22'}, {'league_id': 5002, 'team_id': 1017, 'team_name': 'Draft Day Dummies', 'last_changed_date': '2024-04-22'}, {'league_id': 5002, 'team_id': 1018, 'team_name': 'Endzone Pirates', 'last_changed_date': '2024-04-22'}, {'league_id': 5002, 'team_id': 1014, 'team_name': 'Fourth and Gronk', 'last_changed_date': '2024-04-22'}, {'league_id': 5002, 'team_id': 1015, 'team_name': 'Sunday Mudslingers', 'last_changed_date': '2024-04-22'}, {'league_id': 5002, 'team_id': 1013, 'team_name': 'The Gridiron Goons', 'last_changed_date': '2024-04-22'}, {'league_id': 5002, 'team_id': 1020, 'team_name': 'The Pigskin Pranksters', 'last_changed_date': '2024-04-22'}]}, {'league_id': 5003, 'league_name': 'AHAHFZZFFFL', 'scoring_type': 'Standard', 'last_changed_date': '2024-04-22', 'teams': []}, {'league_id': 5004, 'league_name': 'Gridiron Gurus Fantasy League', 'scoring_type': 'PPR', 'last_changed_date': '2024-04-22', 'teams': []}, {'league_id': 5005, 'league_name': 'Best League Ever', 'scoring_type': 'PPR', 'last_changed_date': '2024-04-22', 'teams': []}]\n"
     ]
    }
   ],
   "source": [
    "endpoint = \"/v0/leagues/\"\n",
    "api_response = httpx.get(base_url + endpoint)\n",
    "print(api_response.status_code)\n",
    "print(api_response.json())"
   ]
  },
  {
   "cell_type": "markdown",
   "metadata": {},
   "source": []
  },
  {
   "cell_type": "markdown",
   "metadata": {},
   "source": [
    "## Formatting Team Rosters\n"
   ]
  },
  {
   "cell_type": "code",
   "execution_count": 13,
   "metadata": {},
   "outputs": [],
   "source": [
    "import pandas as pd\n",
    "data = api_response.json()\n",
    "df = pd.DataFrame.from_dict(data)\n"
   ]
  },
  {
   "cell_type": "code",
   "execution_count": 15,
   "metadata": {},
   "outputs": [
    {
     "name": "stdout",
     "output_type": "stream",
     "text": [
      "   league_id                      league_name scoring_type last_changed_date  \\\n",
      "0       5001  Pigskin Prodigal Fantasy League          PPR        2024-04-22   \n",
      "1       5002       Recurring Champions League     Half-PPR        2024-04-22   \n",
      "2       5003                      AHAHFZZFFFL     Standard        2024-04-22   \n",
      "3       5004    Gridiron Gurus Fantasy League          PPR        2024-04-22   \n",
      "4       5005                 Best League Ever          PPR        2024-04-22   \n",
      "\n",
      "                                               teams  \n",
      "0  [{'league_id': 5001, 'team_id': 1007, 'team_na...  \n",
      "1  [{'league_id': 5002, 'team_id': 1019, 'team_na...  \n",
      "2                                                 []  \n",
      "3                                                 []  \n",
      "4                                                 []  \n"
     ]
    }
   ],
   "source": [
    "print(df)"
   ]
  },
  {
   "cell_type": "code",
   "execution_count": 16,
   "metadata": {},
   "outputs": [
    {
     "name": "stdout",
     "output_type": "stream",
     "text": [
      "Empty DataFrame\n",
      "Columns: []\n",
      "Index: [0, 1, 2, 3, 4]\n"
     ]
    }
   ],
   "source": [
    "normalized_df = pd.json_normalize(df)\n",
    "print(normalized_df)"
   ]
  },
  {
   "cell_type": "code",
   "execution_count": 17,
   "metadata": {},
   "outputs": [
    {
     "name": "stdout",
     "output_type": "stream",
     "text": [
      "    league_id                      league_name scoring_type  \\\n",
      "0        5001  Pigskin Prodigal Fantasy League          PPR   \n",
      "1        5001  Pigskin Prodigal Fantasy League          PPR   \n",
      "2        5001  Pigskin Prodigal Fantasy League          PPR   \n",
      "3        5001  Pigskin Prodigal Fantasy League          PPR   \n",
      "4        5001  Pigskin Prodigal Fantasy League          PPR   \n",
      "5        5001  Pigskin Prodigal Fantasy League          PPR   \n",
      "6        5001  Pigskin Prodigal Fantasy League          PPR   \n",
      "7        5001  Pigskin Prodigal Fantasy League          PPR   \n",
      "8        5001  Pigskin Prodigal Fantasy League          PPR   \n",
      "9        5001  Pigskin Prodigal Fantasy League          PPR   \n",
      "10       5001  Pigskin Prodigal Fantasy League          PPR   \n",
      "11       5001  Pigskin Prodigal Fantasy League          PPR   \n",
      "12       5002       Recurring Champions League     Half-PPR   \n",
      "13       5002       Recurring Champions League     Half-PPR   \n",
      "14       5002       Recurring Champions League     Half-PPR   \n",
      "15       5002       Recurring Champions League     Half-PPR   \n",
      "16       5002       Recurring Champions League     Half-PPR   \n",
      "17       5002       Recurring Champions League     Half-PPR   \n",
      "18       5002       Recurring Champions League     Half-PPR   \n",
      "19       5002       Recurring Champions League     Half-PPR   \n",
      "20       5003                      AHAHFZZFFFL     Standard   \n",
      "21       5004    Gridiron Gurus Fantasy League          PPR   \n",
      "22       5005                 Best League Ever          PPR   \n",
      "\n",
      "   last_changed_date_league  team_id               team_name  \\\n",
      "0                2024-04-22   1007.0      Checkers Not Chess   \n",
      "1                2024-04-22   1003.0           Dallas Steers   \n",
      "2                2024-04-22   1008.0        Defending Champs   \n",
      "3                2024-04-22   1011.0           Double Option   \n",
      "4                2024-04-22   1005.0        Fighting Catfish   \n",
      "5                2024-04-22   1010.0            Fumblerooski   \n",
      "6                2024-04-22   1004.0     Never Gonna Give Up   \n",
      "7                2024-04-22   1002.0           Pigskin Party   \n",
      "8                2024-04-22   1001.0         Roaring Kitties   \n",
      "9                2024-04-22   1009.0            Team Generic   \n",
      "10               2024-04-22   1006.0            Wallaby Stew   \n",
      "11               2024-04-22   1012.0          Wicked Awesome   \n",
      "12               2024-04-22   1019.0           Blitz Platoon   \n",
      "13               2024-04-22   1016.0          Couch Potatoes   \n",
      "14               2024-04-22   1017.0       Draft Day Dummies   \n",
      "15               2024-04-22   1018.0         Endzone Pirates   \n",
      "16               2024-04-22   1014.0        Fourth and Gronk   \n",
      "17               2024-04-22   1015.0      Sunday Mudslingers   \n",
      "18               2024-04-22   1013.0      The Gridiron Goons   \n",
      "19               2024-04-22   1020.0  The Pigskin Pranksters   \n",
      "20               2024-04-22      NaN                     NaN   \n",
      "21               2024-04-22      NaN                     NaN   \n",
      "22               2024-04-22      NaN                     NaN   \n",
      "\n",
      "   last_changed_date_team  \n",
      "0              2024-04-22  \n",
      "1              2024-04-22  \n",
      "2              2024-04-22  \n",
      "3              2024-04-22  \n",
      "4              2024-04-22  \n",
      "5              2024-04-22  \n",
      "6              2024-04-22  \n",
      "7              2024-04-22  \n",
      "8              2024-04-22  \n",
      "9              2024-04-22  \n",
      "10             2024-04-22  \n",
      "11             2024-04-22  \n",
      "12             2024-04-22  \n",
      "13             2024-04-22  \n",
      "14             2024-04-22  \n",
      "15             2024-04-22  \n",
      "16             2024-04-22  \n",
      "17             2024-04-22  \n",
      "18             2024-04-22  \n",
      "19             2024-04-22  \n",
      "20                    NaN  \n",
      "21                    NaN  \n",
      "22                    NaN  \n"
     ]
    }
   ],
   "source": [
    "# Extracting league data and team data\n",
    "leagues = []\n",
    "teams = []\n",
    "\n",
    "for league in data:\n",
    "    league_info = {\n",
    "        'league_id': league['league_id'],\n",
    "        'league_name': league['league_name'],\n",
    "        'scoring_type': league['scoring_type'],\n",
    "        'last_changed_date': league['last_changed_date']\n",
    "    }\n",
    "    leagues.append(league_info)\n",
    "    \n",
    "    for team in league['teams']:\n",
    "        teams.append(team)\n",
    "\n",
    "# Converting to DataFrames\n",
    "league_df = pd.DataFrame(leagues)\n",
    "team_df = pd.DataFrame(teams)\n",
    "\n",
    "# Merging DataFrames\n",
    "combined_df = pd.merge(league_df, team_df, on='league_id', how='left', suffixes=('_league', '_team'))\n",
    "\n",
    "# Displaying the combined DataFrame\n",
    "print(combined_df)"
   ]
  },
  {
   "cell_type": "code",
   "execution_count": 24,
   "metadata": {},
   "outputs": [
    {
     "name": "stdout",
     "output_type": "stream",
     "text": [
      "+------+---------------------------------+----------+------------+------+------------------------+------------+\n",
      "| 5001 | Pigskin Prodigal Fantasy League | PPR      | 2024-04-22 | 1007 | Checkers Not Chess     | 2024-04-22 |\n",
      "+------+---------------------------------+----------+------------+------+------------------------+------------+\n",
      "| 5001 | Pigskin Prodigal Fantasy League | PPR      | 2024-04-22 | 1003 | Dallas Steers          | 2024-04-22 |\n",
      "+------+---------------------------------+----------+------------+------+------------------------+------------+\n",
      "| 5001 | Pigskin Prodigal Fantasy League | PPR      | 2024-04-22 | 1008 | Defending Champs       | 2024-04-22 |\n",
      "+------+---------------------------------+----------+------------+------+------------------------+------------+\n",
      "| 5001 | Pigskin Prodigal Fantasy League | PPR      | 2024-04-22 | 1011 | Double Option          | 2024-04-22 |\n",
      "+------+---------------------------------+----------+------------+------+------------------------+------------+\n",
      "| 5001 | Pigskin Prodigal Fantasy League | PPR      | 2024-04-22 | 1005 | Fighting Catfish       | 2024-04-22 |\n",
      "+------+---------------------------------+----------+------------+------+------------------------+------------+\n",
      "| 5001 | Pigskin Prodigal Fantasy League | PPR      | 2024-04-22 | 1010 | Fumblerooski           | 2024-04-22 |\n",
      "+------+---------------------------------+----------+------------+------+------------------------+------------+\n",
      "| 5001 | Pigskin Prodigal Fantasy League | PPR      | 2024-04-22 | 1004 | Never Gonna Give Up    | 2024-04-22 |\n",
      "+------+---------------------------------+----------+------------+------+------------------------+------------+\n",
      "| 5001 | Pigskin Prodigal Fantasy League | PPR      | 2024-04-22 | 1002 | Pigskin Party          | 2024-04-22 |\n",
      "+------+---------------------------------+----------+------------+------+------------------------+------------+\n",
      "| 5001 | Pigskin Prodigal Fantasy League | PPR      | 2024-04-22 | 1001 | Roaring Kitties        | 2024-04-22 |\n",
      "+------+---------------------------------+----------+------------+------+------------------------+------------+\n",
      "| 5001 | Pigskin Prodigal Fantasy League | PPR      | 2024-04-22 | 1009 | Team Generic           | 2024-04-22 |\n",
      "+------+---------------------------------+----------+------------+------+------------------------+------------+\n",
      "| 5001 | Pigskin Prodigal Fantasy League | PPR      | 2024-04-22 | 1006 | Wallaby Stew           | 2024-04-22 |\n",
      "+------+---------------------------------+----------+------------+------+------------------------+------------+\n",
      "| 5001 | Pigskin Prodigal Fantasy League | PPR      | 2024-04-22 | 1012 | Wicked Awesome         | 2024-04-22 |\n",
      "+------+---------------------------------+----------+------------+------+------------------------+------------+\n",
      "| 5002 | Recurring Champions League      | Half-PPR | 2024-04-22 | 1019 | Blitz Platoon          | 2024-04-22 |\n",
      "+------+---------------------------------+----------+------------+------+------------------------+------------+\n",
      "| 5002 | Recurring Champions League      | Half-PPR | 2024-04-22 | 1016 | Couch Potatoes         | 2024-04-22 |\n",
      "+------+---------------------------------+----------+------------+------+------------------------+------------+\n",
      "| 5002 | Recurring Champions League      | Half-PPR | 2024-04-22 | 1017 | Draft Day Dummies      | 2024-04-22 |\n",
      "+------+---------------------------------+----------+------------+------+------------------------+------------+\n",
      "| 5002 | Recurring Champions League      | Half-PPR | 2024-04-22 | 1018 | Endzone Pirates        | 2024-04-22 |\n",
      "+------+---------------------------------+----------+------------+------+------------------------+------------+\n",
      "| 5002 | Recurring Champions League      | Half-PPR | 2024-04-22 | 1014 | Fourth and Gronk       | 2024-04-22 |\n",
      "+------+---------------------------------+----------+------------+------+------------------------+------------+\n",
      "| 5002 | Recurring Champions League      | Half-PPR | 2024-04-22 | 1015 | Sunday Mudslingers     | 2024-04-22 |\n",
      "+------+---------------------------------+----------+------------+------+------------------------+------------+\n",
      "| 5002 | Recurring Champions League      | Half-PPR | 2024-04-22 | 1013 | The Gridiron Goons     | 2024-04-22 |\n",
      "+------+---------------------------------+----------+------------+------+------------------------+------------+\n",
      "| 5002 | Recurring Champions League      | Half-PPR | 2024-04-22 | 1020 | The Pigskin Pranksters | 2024-04-22 |\n",
      "+------+---------------------------------+----------+------------+------+------------------------+------------+\n",
      "| 5003 | AHAHFZZFFFL                     | Standard | 2024-04-22 |      |                        |            |\n",
      "+------+---------------------------------+----------+------------+------+------------------------+------------+\n",
      "| 5004 | Gridiron Gurus Fantasy League   | PPR      | 2024-04-22 |      |                        |            |\n",
      "+------+---------------------------------+----------+------------+------+------------------------+------------+\n",
      "| 5005 | Best League Ever                | PPR      | 2024-04-22 |      |                        |            |\n",
      "+------+---------------------------------+----------+------------+------+------------------------+------------+\n"
     ]
    }
   ],
   "source": [
    "from tabulate import tabulate\n",
    "\n",
    "# Flattening the nested data structure\n",
    "flattened_data = []\n",
    "for league in data:\n",
    "    league_info = {\n",
    "        'league_id': league['league_id'],\n",
    "        'league_name': league['league_name'],\n",
    "        'scoring_type': league['scoring_type'],\n",
    "        'last_changed_date': league['last_changed_date']\n",
    "    }\n",
    "    if league['teams']:\n",
    "        for team in league['teams']:\n",
    "            team_info = {\n",
    "                'team_id': team['team_id'],\n",
    "                'team_name': team['team_name'],\n",
    "                'team_last_changed_date': team['last_changed_date']\n",
    "            }\n",
    "            combined_info = {**league_info, **team_info}\n",
    "            flattened_data.append(combined_info)\n",
    "    else:\n",
    "        flattened_data.append(league_info)\n",
    "\n",
    "# # Defining the headers\n",
    "# headers = [\n",
    "#     'league_id', 'league_name', 'scoring_type', 'last_changed_date',\n",
    "#     'team_id', 'team_name', 'team_last_changed_date'\n",
    "# ]\n",
    "\n",
    "# Printing the data in tabular form\n",
    "print(tabulate(flattened_data, tablefmt='grid'))"
   ]
  },
  {
   "cell_type": "code",
   "execution_count": null,
   "metadata": {},
   "outputs": [],
   "source": []
  }
 ],
 "metadata": {
  "kernelspec": {
   "display_name": "Python 3",
   "language": "python",
   "name": "python3"
  },
  "language_info": {
   "codemirror_mode": {
    "name": "ipython",
    "version": 3
   },
   "file_extension": ".py",
   "mimetype": "text/x-python",
   "name": "python",
   "nbconvert_exporter": "python",
   "pygments_lexer": "ipython3",
   "version": "3.10.13"
  }
 },
 "nbformat": 4,
 "nbformat_minor": 2
}
