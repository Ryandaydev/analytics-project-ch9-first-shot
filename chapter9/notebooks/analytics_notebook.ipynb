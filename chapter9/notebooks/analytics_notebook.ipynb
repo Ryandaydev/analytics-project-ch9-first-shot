{
 "cells": [
  {
   "cell_type": "code",
   "execution_count": 1,
   "metadata": {},
   "outputs": [
    {
     "name": "stdout",
     "output_type": "stream",
     "text": [
      "My Codespace is working now\n"
     ]
    }
   ],
   "source": [
    "print(\"My Codespace is working now\")"
   ]
  },
  {
   "cell_type": "markdown",
   "metadata": {},
   "source": [
    "# Calling the SWC Health Check endpoint with httpx"
   ]
  },
  {
   "cell_type": "code",
   "execution_count": 1,
   "metadata": {},
   "outputs": [
    {
     "name": "stdout",
     "output_type": "stream",
     "text": [
      "200\n",
      "{'message': 'API health check successful'}\n"
     ]
    }
   ],
   "source": [
    "import httpx\n",
    "\n",
    "api_response = httpx.get(\"http://0.0.0.0:8000/\")\n",
    "print(api_response.status_code)\n",
    "print(api_response.json())\n"
   ]
  }
 ],
 "metadata": {
  "kernelspec": {
   "display_name": "Python 3",
   "language": "python",
   "name": "python3"
  },
  "language_info": {
   "codemirror_mode": {
    "name": "ipython",
    "version": 3
   },
   "file_extension": ".py",
   "mimetype": "text/x-python",
   "name": "python",
   "nbconvert_exporter": "python",
   "pygments_lexer": "ipython3",
   "version": "3.10.13"
  }
 },
 "nbformat": 4,
 "nbformat_minor": 2
}
