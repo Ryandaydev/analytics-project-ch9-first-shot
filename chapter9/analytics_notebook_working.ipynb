{
 "cells": [
  {
   "cell_type": "code",
   "execution_count": 1,
   "metadata": {},
   "outputs": [
    {
     "name": "stdout",
     "output_type": "stream",
     "text": [
      "My Codespace is working now\n"
     ]
    }
   ],
   "source": [
    "print(\"My Codespace is working now\")"
   ]
  },
  {
   "cell_type": "markdown",
   "metadata": {},
   "source": [
    "# Calling the SWC API\n",
    "\n",
    "## Calling the Health Check endpoint with httpx"
   ]
  },
  {
   "cell_type": "code",
   "execution_count": 1,
   "metadata": {},
   "outputs": [
    {
     "name": "stdout",
     "output_type": "stream",
     "text": [
      "200\n",
      "{'message': 'API health check successful'}\n"
     ]
    }
   ],
   "source": [
    "import httpx\n",
    "\n",
    "base_url = \"https://api.sportsworldcentral.com\"\n",
    "endpoint = \"/\"\n",
    "\n",
    "api_response = httpx.get(base_url + endpoint)\n",
    "print(api_response.status_code)\n",
    "print(api_response.json())\n"
   ]
  },
  {
   "cell_type": "markdown",
   "metadata": {},
   "source": [
    "## Gathering team rosters"
   ]
  },
  {
   "cell_type": "code",
   "execution_count": 2,
   "metadata": {},
   "outputs": [
    {
     "name": "stdout",
     "output_type": "stream",
     "text": [
      "200\n",
      "[{'league_id': 5001, 'league_name': 'Pigskin Prodigal Fantasy League', 'scoring_type': 'PPR', 'last_changed_date': '2024-04-22', 'teams': [{'league_id': 5001, 'team_id': 1007, 'team_name': 'Checkers Not Chess', 'last_changed_date': '2024-04-22'}, {'league_id': 5001, 'team_id': 1003, 'team_name': 'Dallas Steers', 'last_changed_date': '2024-04-22'}, {'league_id': 5001, 'team_id': 1008, 'team_name': 'Defending Champs', 'last_changed_date': '2024-04-22'}, {'league_id': 5001, 'team_id': 1011, 'team_name': 'Double Option', 'last_changed_date': '2024-04-22'}, {'league_id': 5001, 'team_id': 1005, 'team_name': 'Fighting Catfish', 'last_changed_date': '2024-04-22'}, {'league_id': 5001, 'team_id': 1010, 'team_name': 'Fumblerooski', 'last_changed_date': '2024-04-22'}, {'league_id': 5001, 'team_id': 1004, 'team_name': 'Never Gonna Give Up', 'last_changed_date': '2024-04-22'}, {'league_id': 5001, 'team_id': 1002, 'team_name': 'Pigskin Party', 'last_changed_date': '2024-04-22'}, {'league_id': 5001, 'team_id': 1001, 'team_name': 'Roaring Kitties', 'last_changed_date': '2024-04-22'}, {'league_id': 5001, 'team_id': 1009, 'team_name': 'Team Generic', 'last_changed_date': '2024-04-22'}, {'league_id': 5001, 'team_id': 1006, 'team_name': 'Wallaby Stew', 'last_changed_date': '2024-04-22'}, {'league_id': 5001, 'team_id': 1012, 'team_name': 'Wicked Awesome', 'last_changed_date': '2024-04-22'}]}, {'league_id': 5002, 'league_name': 'Recurring Champions League', 'scoring_type': 'Half-PPR', 'last_changed_date': '2024-04-22', 'teams': [{'league_id': 5002, 'team_id': 1019, 'team_name': 'Blitz Platoon', 'last_changed_date': '2024-04-22'}, {'league_id': 5002, 'team_id': 1016, 'team_name': 'Couch Potatoes', 'last_changed_date': '2024-04-22'}, {'league_id': 5002, 'team_id': 1017, 'team_name': 'Draft Day Dummies', 'last_changed_date': '2024-04-22'}, {'league_id': 5002, 'team_id': 1018, 'team_name': 'Endzone Pirates', 'last_changed_date': '2024-04-22'}, {'league_id': 5002, 'team_id': 1014, 'team_name': 'Fourth and Gronk', 'last_changed_date': '2024-04-22'}, {'league_id': 5002, 'team_id': 1015, 'team_name': 'Sunday Mudslingers', 'last_changed_date': '2024-04-22'}, {'league_id': 5002, 'team_id': 1013, 'team_name': 'The Gridiron Goons', 'last_changed_date': '2024-04-22'}, {'league_id': 5002, 'team_id': 1020, 'team_name': 'The Pigskin Pranksters', 'last_changed_date': '2024-04-22'}]}, {'league_id': 5003, 'league_name': 'AHAHFZZFFFL', 'scoring_type': 'Standard', 'last_changed_date': '2024-04-22', 'teams': []}, {'league_id': 5004, 'league_name': 'Gridiron Gurus Fantasy League', 'scoring_type': 'PPR', 'last_changed_date': '2024-04-22', 'teams': []}, {'league_id': 5005, 'league_name': 'Best League Ever', 'scoring_type': 'PPR', 'last_changed_date': '2024-04-22', 'teams': []}]\n"
     ]
    }
   ],
   "source": [
    "endpoint = \"/v0/leagues/\"\n",
    "api_response = httpx.get(base_url + endpoint)\n",
    "print(api_response.status_code)\n",
    "print(api_response.json())"
   ]
  },
  {
   "cell_type": "markdown",
   "metadata": {},
   "source": []
  },
  {
   "cell_type": "markdown",
   "metadata": {},
   "source": [
    "## Formatting Team Rosters\n"
   ]
  },
  {
   "cell_type": "code",
   "execution_count": 13,
   "metadata": {},
   "outputs": [],
   "source": [
    "import pandas as pd\n",
    "data = api_response.json()\n",
    "df = pd.DataFrame.from_dict(data)\n"
   ]
  },
  {
   "cell_type": "code",
   "execution_count": 15,
   "metadata": {},
   "outputs": [
    {
     "name": "stdout",
     "output_type": "stream",
     "text": [
      "   league_id                      league_name scoring_type last_changed_date  \\\n",
      "0       5001  Pigskin Prodigal Fantasy League          PPR        2024-04-22   \n",
      "1       5002       Recurring Champions League     Half-PPR        2024-04-22   \n",
      "2       5003                      AHAHFZZFFFL     Standard        2024-04-22   \n",
      "3       5004    Gridiron Gurus Fantasy League          PPR        2024-04-22   \n",
      "4       5005                 Best League Ever          PPR        2024-04-22   \n",
      "\n",
      "                                               teams  \n",
      "0  [{'league_id': 5001, 'team_id': 1007, 'team_na...  \n",
      "1  [{'league_id': 5002, 'team_id': 1019, 'team_na...  \n",
      "2                                                 []  \n",
      "3                                                 []  \n",
      "4                                                 []  \n"
     ]
    }
   ],
   "source": [
    "print(df)"
   ]
  },
  {
   "cell_type": "code",
   "execution_count": 16,
   "metadata": {},
   "outputs": [
    {
     "name": "stdout",
     "output_type": "stream",
     "text": [
      "Empty DataFrame\n",
      "Columns: []\n",
      "Index: [0, 1, 2, 3, 4]\n"
     ]
    }
   ],
   "source": [
    "normalized_df = pd.json_normalize(df)\n",
    "print(normalized_df)"
   ]
  },
  {
   "cell_type": "code",
   "execution_count": 17,
   "metadata": {},
   "outputs": [
    {
     "name": "stdout",
     "output_type": "stream",
     "text": [
      "    league_id                      league_name scoring_type  \\\n",
      "0        5001  Pigskin Prodigal Fantasy League          PPR   \n",
      "1        5001  Pigskin Prodigal Fantasy League          PPR   \n",
      "2        5001  Pigskin Prodigal Fantasy League          PPR   \n",
      "3        5001  Pigskin Prodigal Fantasy League          PPR   \n",
      "4        5001  Pigskin Prodigal Fantasy League          PPR   \n",
      "5        5001  Pigskin Prodigal Fantasy League          PPR   \n",
      "6        5001  Pigskin Prodigal Fantasy League          PPR   \n",
      "7        5001  Pigskin Prodigal Fantasy League          PPR   \n",
      "8        5001  Pigskin Prodigal Fantasy League          PPR   \n",
      "9        5001  Pigskin Prodigal Fantasy League          PPR   \n",
      "10       5001  Pigskin Prodigal Fantasy League          PPR   \n",
      "11       5001  Pigskin Prodigal Fantasy League          PPR   \n",
      "12       5002       Recurring Champions League     Half-PPR   \n",
      "13       5002       Recurring Champions League     Half-PPR   \n",
      "14       5002       Recurring Champions League     Half-PPR   \n",
      "15       5002       Recurring Champions League     Half-PPR   \n",
      "16       5002       Recurring Champions League     Half-PPR   \n",
      "17       5002       Recurring Champions League     Half-PPR   \n",
      "18       5002       Recurring Champions League     Half-PPR   \n",
      "19       5002       Recurring Champions League     Half-PPR   \n",
      "20       5003                      AHAHFZZFFFL     Standard   \n",
      "21       5004    Gridiron Gurus Fantasy League          PPR   \n",
      "22       5005                 Best League Ever          PPR   \n",
      "\n",
      "   last_changed_date_league  team_id               team_name  \\\n",
      "0                2024-04-22   1007.0      Checkers Not Chess   \n",
      "1                2024-04-22   1003.0           Dallas Steers   \n",
      "2                2024-04-22   1008.0        Defending Champs   \n",
      "3                2024-04-22   1011.0           Double Option   \n",
      "4                2024-04-22   1005.0        Fighting Catfish   \n",
      "5                2024-04-22   1010.0            Fumblerooski   \n",
      "6                2024-04-22   1004.0     Never Gonna Give Up   \n",
      "7                2024-04-22   1002.0           Pigskin Party   \n",
      "8                2024-04-22   1001.0         Roaring Kitties   \n",
      "9                2024-04-22   1009.0            Team Generic   \n",
      "10               2024-04-22   1006.0            Wallaby Stew   \n",
      "11               2024-04-22   1012.0          Wicked Awesome   \n",
      "12               2024-04-22   1019.0           Blitz Platoon   \n",
      "13               2024-04-22   1016.0          Couch Potatoes   \n",
      "14               2024-04-22   1017.0       Draft Day Dummies   \n",
      "15               2024-04-22   1018.0         Endzone Pirates   \n",
      "16               2024-04-22   1014.0        Fourth and Gronk   \n",
      "17               2024-04-22   1015.0      Sunday Mudslingers   \n",
      "18               2024-04-22   1013.0      The Gridiron Goons   \n",
      "19               2024-04-22   1020.0  The Pigskin Pranksters   \n",
      "20               2024-04-22      NaN                     NaN   \n",
      "21               2024-04-22      NaN                     NaN   \n",
      "22               2024-04-22      NaN                     NaN   \n",
      "\n",
      "   last_changed_date_team  \n",
      "0              2024-04-22  \n",
      "1              2024-04-22  \n",
      "2              2024-04-22  \n",
      "3              2024-04-22  \n",
      "4              2024-04-22  \n",
      "5              2024-04-22  \n",
      "6              2024-04-22  \n",
      "7              2024-04-22  \n",
      "8              2024-04-22  \n",
      "9              2024-04-22  \n",
      "10             2024-04-22  \n",
      "11             2024-04-22  \n",
      "12             2024-04-22  \n",
      "13             2024-04-22  \n",
      "14             2024-04-22  \n",
      "15             2024-04-22  \n",
      "16             2024-04-22  \n",
      "17             2024-04-22  \n",
      "18             2024-04-22  \n",
      "19             2024-04-22  \n",
      "20                    NaN  \n",
      "21                    NaN  \n",
      "22                    NaN  \n"
     ]
    }
   ],
   "source": [
    "# Extracting league data and team data\n",
    "leagues = []\n",
    "teams = []\n",
    "\n",
    "for league in data:\n",
    "    league_info = {\n",
    "        'league_id': league['league_id'],\n",
    "        'league_name': league['league_name'],\n",
    "        'scoring_type': league['scoring_type'],\n",
    "        'last_changed_date': league['last_changed_date']\n",
    "    }\n",
    "    leagues.append(league_info)\n",
    "    \n",
    "    for team in league['teams']:\n",
    "        teams.append(team)\n",
    "\n",
    "# Converting to DataFrames\n",
    "league_df = pd.DataFrame(leagues)\n",
    "team_df = pd.DataFrame(teams)\n",
    "\n",
    "# Merging DataFrames\n",
    "combined_df = pd.merge(league_df, team_df, on='league_id', how='left', suffixes=('_league', '_team'))\n",
    "\n",
    "# Displaying the combined DataFrame\n",
    "print(combined_df)"
   ]
  },
  {
   "cell_type": "code",
   "execution_count": 27,
   "metadata": {},
   "outputs": [
    {
     "ename": "ValueError",
     "evalue": "headers for a list of dicts is not a dict or a keyword",
     "output_type": "error",
     "traceback": [
      "\u001b[0;31m---------------------------------------------------------------------------\u001b[0m",
      "\u001b[0;31mValueError\u001b[0m                                Traceback (most recent call last)",
      "Cell \u001b[0;32mIn[27], line 32\u001b[0m\n\u001b[1;32m     22\u001b[0m         flattened_data\u001b[38;5;241m.\u001b[39mappend(league_info)\n\u001b[1;32m     24\u001b[0m \u001b[38;5;66;03m# # Defining the headers\u001b[39;00m\n\u001b[1;32m     25\u001b[0m \u001b[38;5;66;03m# headers = [\u001b[39;00m\n\u001b[1;32m     26\u001b[0m \u001b[38;5;66;03m#     'league_id', 'league_name', 'scoring_type', 'last_changed_date',\u001b[39;00m\n\u001b[0;32m   (...)\u001b[0m\n\u001b[1;32m     30\u001b[0m \u001b[38;5;66;03m# Printing the data in tabular form\u001b[39;00m\n\u001b[1;32m     31\u001b[0m \u001b[38;5;66;03m#print(tabulate(flattened_data, tablefmt='grid'))\u001b[39;00m\n\u001b[0;32m---> 32\u001b[0m \u001b[38;5;28mprint\u001b[39m(\u001b[43mtabulate\u001b[49m\u001b[43m(\u001b[49m\u001b[43mflattened_data\u001b[49m\u001b[43m,\u001b[49m\u001b[43m \u001b[49m\u001b[43mheaders\u001b[49m\u001b[43m \u001b[49m\u001b[38;5;241;43m=\u001b[39;49m\u001b[43m \u001b[49m\u001b[43m[\u001b[49m\u001b[38;5;124;43m\"\u001b[39;49m\u001b[38;5;124;43mone\u001b[39;49m\u001b[38;5;124;43m\"\u001b[39;49m\u001b[43m,\u001b[49m\u001b[38;5;124;43m\"\u001b[39;49m\u001b[38;5;124;43mtwo\u001b[39;49m\u001b[38;5;124;43m\"\u001b[39;49m\u001b[43m,\u001b[49m\u001b[38;5;124;43m\"\u001b[39;49m\u001b[38;5;124;43mthree\u001b[39;49m\u001b[38;5;124;43m\"\u001b[39;49m\u001b[43m,\u001b[49m\u001b[38;5;124;43m\"\u001b[39;49m\u001b[38;5;124;43mfour\u001b[39;49m\u001b[38;5;124;43m\"\u001b[39;49m\u001b[43m,\u001b[49m\u001b[38;5;124;43m\"\u001b[39;49m\u001b[38;5;124;43mfive\u001b[39;49m\u001b[38;5;124;43m\"\u001b[39;49m\u001b[43m,\u001b[49m\u001b[38;5;124;43m\"\u001b[39;49m\u001b[38;5;124;43msix\u001b[39;49m\u001b[38;5;124;43m\"\u001b[39;49m\u001b[43m,\u001b[49m\u001b[38;5;124;43m\"\u001b[39;49m\u001b[38;5;124;43mseven\u001b[39;49m\u001b[38;5;124;43m\"\u001b[39;49m\u001b[43m]\u001b[49m\u001b[43m,\u001b[49m\u001b[43mtablefmt\u001b[49m\u001b[38;5;241;43m=\u001b[39;49m\u001b[38;5;124;43m'\u001b[39;49m\u001b[38;5;124;43mgrid\u001b[39;49m\u001b[38;5;124;43m'\u001b[39;49m\u001b[43m)\u001b[49m)\n",
      "File \u001b[0;32m~/.python/current/lib/python3.10/site-packages/tabulate/__init__.py:2048\u001b[0m, in \u001b[0;36mtabulate\u001b[0;34m(tabular_data, headers, tablefmt, floatfmt, intfmt, numalign, stralign, missingval, showindex, disable_numparse, colalign, maxcolwidths, rowalign, maxheadercolwidths)\u001b[0m\n\u001b[1;32m   2045\u001b[0m \u001b[38;5;28;01mif\u001b[39;00m tabular_data \u001b[38;5;129;01mis\u001b[39;00m \u001b[38;5;28;01mNone\u001b[39;00m:\n\u001b[1;32m   2046\u001b[0m     tabular_data \u001b[38;5;241m=\u001b[39m []\n\u001b[0;32m-> 2048\u001b[0m list_of_lists, headers \u001b[38;5;241m=\u001b[39m \u001b[43m_normalize_tabular_data\u001b[49m\u001b[43m(\u001b[49m\n\u001b[1;32m   2049\u001b[0m \u001b[43m    \u001b[49m\u001b[43mtabular_data\u001b[49m\u001b[43m,\u001b[49m\u001b[43m \u001b[49m\u001b[43mheaders\u001b[49m\u001b[43m,\u001b[49m\u001b[43m \u001b[49m\u001b[43mshowindex\u001b[49m\u001b[38;5;241;43m=\u001b[39;49m\u001b[43mshowindex\u001b[49m\n\u001b[1;32m   2050\u001b[0m \u001b[43m\u001b[49m\u001b[43m)\u001b[49m\n\u001b[1;32m   2051\u001b[0m list_of_lists, separating_lines \u001b[38;5;241m=\u001b[39m _remove_separating_lines(list_of_lists)\n\u001b[1;32m   2053\u001b[0m \u001b[38;5;28;01mif\u001b[39;00m maxcolwidths \u001b[38;5;129;01mis\u001b[39;00m \u001b[38;5;129;01mnot\u001b[39;00m \u001b[38;5;28;01mNone\u001b[39;00m:\n",
      "File \u001b[0;32m~/.python/current/lib/python3.10/site-packages/tabulate/__init__.py:1427\u001b[0m, in \u001b[0;36m_normalize_tabular_data\u001b[0;34m(tabular_data, headers, showindex)\u001b[0m\n\u001b[1;32m   1425\u001b[0m             headers \u001b[38;5;241m=\u001b[39m []\n\u001b[1;32m   1426\u001b[0m     \u001b[38;5;28;01melif\u001b[39;00m headers:\n\u001b[0;32m-> 1427\u001b[0m         \u001b[38;5;28;01mraise\u001b[39;00m \u001b[38;5;167;01mValueError\u001b[39;00m(\n\u001b[1;32m   1428\u001b[0m             \u001b[38;5;124m\"\u001b[39m\u001b[38;5;124mheaders for a list of dicts is not a dict or a keyword\u001b[39m\u001b[38;5;124m\"\u001b[39m\n\u001b[1;32m   1429\u001b[0m         )\n\u001b[1;32m   1430\u001b[0m     rows \u001b[38;5;241m=\u001b[39m [[row\u001b[38;5;241m.\u001b[39mget(k) \u001b[38;5;28;01mfor\u001b[39;00m k \u001b[38;5;129;01min\u001b[39;00m keys] \u001b[38;5;28;01mfor\u001b[39;00m row \u001b[38;5;129;01min\u001b[39;00m rows]\n\u001b[1;32m   1432\u001b[0m \u001b[38;5;28;01melif\u001b[39;00m (\n\u001b[1;32m   1433\u001b[0m     headers \u001b[38;5;241m==\u001b[39m \u001b[38;5;124m\"\u001b[39m\u001b[38;5;124mkeys\u001b[39m\u001b[38;5;124m\"\u001b[39m\n\u001b[1;32m   1434\u001b[0m     \u001b[38;5;129;01mand\u001b[39;00m \u001b[38;5;28mhasattr\u001b[39m(tabular_data, \u001b[38;5;124m\"\u001b[39m\u001b[38;5;124mdescription\u001b[39m\u001b[38;5;124m\"\u001b[39m)\n\u001b[0;32m   (...)\u001b[0m\n\u001b[1;32m   1438\u001b[0m     \u001b[38;5;66;03m# Python Database API cursor object (PEP 0249)\u001b[39;00m\n\u001b[1;32m   1439\u001b[0m     \u001b[38;5;66;03m# print tabulate(cursor, headers='keys')\u001b[39;00m\n",
      "\u001b[0;31mValueError\u001b[0m: headers for a list of dicts is not a dict or a keyword"
     ]
    }
   ],
   "source": [
    "from tabulate import tabulate\n",
    "\n",
    "# Flattening the nested data structure\n",
    "flattened_data = []\n",
    "for league in data:\n",
    "    league_info = {\n",
    "        'league_id': league['league_id'],\n",
    "        'league_name': league['league_name'],\n",
    "        'scoring_type': league['scoring_type'],\n",
    "        'last_changed_date': league['last_changed_date']\n",
    "    }\n",
    "    if league['teams']:\n",
    "        for team in league['teams']:\n",
    "            team_info = {\n",
    "                'team_id': team['team_id'],\n",
    "                'team_name': team['team_name'],\n",
    "                'team_last_changed_date': team['last_changed_date']\n",
    "            }\n",
    "            combined_info = {**league_info, **team_info}\n",
    "            flattened_data.append(combined_info)\n",
    "    else:\n",
    "        flattened_data.append(league_info)\n",
    "\n",
    "# # Defining the headers\n",
    "# headers = [\n",
    "#     'league_id', 'league_name', 'scoring_type', 'last_changed_date',\n",
    "#     'team_id', 'team_name', 'team_last_changed_date'\n",
    "# ]\n",
    "\n",
    "# Printing the data in tabular form\n",
    "#print(tabulate(flattened_data, tablefmt='grid'))\n",
    "print(tabulate(flattened_data, headers = [\"one\",\"two\",\"three\",\"four\",\"five\",\"six\",\"seven\"],tablefmt='grid'))"
   ]
  },
  {
   "cell_type": "markdown",
   "metadata": {},
   "source": [
    "# instead of httpx use requests\n",
    "## gets the same result (thankfully)"
   ]
  },
  {
   "cell_type": "code",
   "execution_count": 28,
   "metadata": {},
   "outputs": [
    {
     "name": "stdout",
     "output_type": "stream",
     "text": [
      "200\n",
      "[{'league_id': 5001, 'league_name': 'Pigskin Prodigal Fantasy League', 'scoring_type': 'PPR', 'last_changed_date': '2024-04-22', 'teams': [{'league_id': 5001, 'team_id': 1007, 'team_name': 'Checkers Not Chess', 'last_changed_date': '2024-04-22'}, {'league_id': 5001, 'team_id': 1003, 'team_name': 'Dallas Steers', 'last_changed_date': '2024-04-22'}, {'league_id': 5001, 'team_id': 1008, 'team_name': 'Defending Champs', 'last_changed_date': '2024-04-22'}, {'league_id': 5001, 'team_id': 1011, 'team_name': 'Double Option', 'last_changed_date': '2024-04-22'}, {'league_id': 5001, 'team_id': 1005, 'team_name': 'Fighting Catfish', 'last_changed_date': '2024-04-22'}, {'league_id': 5001, 'team_id': 1010, 'team_name': 'Fumblerooski', 'last_changed_date': '2024-04-22'}, {'league_id': 5001, 'team_id': 1004, 'team_name': 'Never Gonna Give Up', 'last_changed_date': '2024-04-22'}, {'league_id': 5001, 'team_id': 1002, 'team_name': 'Pigskin Party', 'last_changed_date': '2024-04-22'}, {'league_id': 5001, 'team_id': 1001, 'team_name': 'Roaring Kitties', 'last_changed_date': '2024-04-22'}, {'league_id': 5001, 'team_id': 1009, 'team_name': 'Team Generic', 'last_changed_date': '2024-04-22'}, {'league_id': 5001, 'team_id': 1006, 'team_name': 'Wallaby Stew', 'last_changed_date': '2024-04-22'}, {'league_id': 5001, 'team_id': 1012, 'team_name': 'Wicked Awesome', 'last_changed_date': '2024-04-22'}]}, {'league_id': 5002, 'league_name': 'Recurring Champions League', 'scoring_type': 'Half-PPR', 'last_changed_date': '2024-04-22', 'teams': [{'league_id': 5002, 'team_id': 1019, 'team_name': 'Blitz Platoon', 'last_changed_date': '2024-04-22'}, {'league_id': 5002, 'team_id': 1016, 'team_name': 'Couch Potatoes', 'last_changed_date': '2024-04-22'}, {'league_id': 5002, 'team_id': 1017, 'team_name': 'Draft Day Dummies', 'last_changed_date': '2024-04-22'}, {'league_id': 5002, 'team_id': 1018, 'team_name': 'Endzone Pirates', 'last_changed_date': '2024-04-22'}, {'league_id': 5002, 'team_id': 1014, 'team_name': 'Fourth and Gronk', 'last_changed_date': '2024-04-22'}, {'league_id': 5002, 'team_id': 1015, 'team_name': 'Sunday Mudslingers', 'last_changed_date': '2024-04-22'}, {'league_id': 5002, 'team_id': 1013, 'team_name': 'The Gridiron Goons', 'last_changed_date': '2024-04-22'}, {'league_id': 5002, 'team_id': 1020, 'team_name': 'The Pigskin Pranksters', 'last_changed_date': '2024-04-22'}]}, {'league_id': 5003, 'league_name': 'AHAHFZZFFFL', 'scoring_type': 'Standard', 'last_changed_date': '2024-04-22', 'teams': []}, {'league_id': 5004, 'league_name': 'Gridiron Gurus Fantasy League', 'scoring_type': 'PPR', 'last_changed_date': '2024-04-22', 'teams': []}, {'league_id': 5005, 'league_name': 'Best League Ever', 'scoring_type': 'PPR', 'last_changed_date': '2024-04-22', 'teams': []}]\n"
     ]
    }
   ],
   "source": [
    "import requests\n",
    "endpoint = \"/v0/leagues/\"\n",
    "api_response = requests.get(base_url + endpoint)\n",
    "print(api_response.status_code)\n",
    "print(api_response.json())"
   ]
  },
  {
   "cell_type": "code",
   "execution_count": 29,
   "metadata": {},
   "outputs": [
    {
     "name": "stdout",
     "output_type": "stream",
     "text": [
      "+-------------+---------------------------------+----------------+---------------------+-----------+------------------------+--------------------------+\n",
      "|   league_id | league_name                     | scoring_type   | last_changed_date   |   team_id | team_name              | team_last_changed_date   |\n",
      "+=============+=================================+================+=====================+===========+========================+==========================+\n",
      "|        5001 | Pigskin Prodigal Fantasy League | PPR            | 2024-04-22          |      1007 | Checkers Not Chess     | 2024-04-22               |\n",
      "+-------------+---------------------------------+----------------+---------------------+-----------+------------------------+--------------------------+\n",
      "|        5001 | Pigskin Prodigal Fantasy League | PPR            | 2024-04-22          |      1003 | Dallas Steers          | 2024-04-22               |\n",
      "+-------------+---------------------------------+----------------+---------------------+-----------+------------------------+--------------------------+\n",
      "|        5001 | Pigskin Prodigal Fantasy League | PPR            | 2024-04-22          |      1008 | Defending Champs       | 2024-04-22               |\n",
      "+-------------+---------------------------------+----------------+---------------------+-----------+------------------------+--------------------------+\n",
      "|        5001 | Pigskin Prodigal Fantasy League | PPR            | 2024-04-22          |      1011 | Double Option          | 2024-04-22               |\n",
      "+-------------+---------------------------------+----------------+---------------------+-----------+------------------------+--------------------------+\n",
      "|        5001 | Pigskin Prodigal Fantasy League | PPR            | 2024-04-22          |      1005 | Fighting Catfish       | 2024-04-22               |\n",
      "+-------------+---------------------------------+----------------+---------------------+-----------+------------------------+--------------------------+\n",
      "|        5001 | Pigskin Prodigal Fantasy League | PPR            | 2024-04-22          |      1010 | Fumblerooski           | 2024-04-22               |\n",
      "+-------------+---------------------------------+----------------+---------------------+-----------+------------------------+--------------------------+\n",
      "|        5001 | Pigskin Prodigal Fantasy League | PPR            | 2024-04-22          |      1004 | Never Gonna Give Up    | 2024-04-22               |\n",
      "+-------------+---------------------------------+----------------+---------------------+-----------+------------------------+--------------------------+\n",
      "|        5001 | Pigskin Prodigal Fantasy League | PPR            | 2024-04-22          |      1002 | Pigskin Party          | 2024-04-22               |\n",
      "+-------------+---------------------------------+----------------+---------------------+-----------+------------------------+--------------------------+\n",
      "|        5001 | Pigskin Prodigal Fantasy League | PPR            | 2024-04-22          |      1001 | Roaring Kitties        | 2024-04-22               |\n",
      "+-------------+---------------------------------+----------------+---------------------+-----------+------------------------+--------------------------+\n",
      "|        5001 | Pigskin Prodigal Fantasy League | PPR            | 2024-04-22          |      1009 | Team Generic           | 2024-04-22               |\n",
      "+-------------+---------------------------------+----------------+---------------------+-----------+------------------------+--------------------------+\n",
      "|        5001 | Pigskin Prodigal Fantasy League | PPR            | 2024-04-22          |      1006 | Wallaby Stew           | 2024-04-22               |\n",
      "+-------------+---------------------------------+----------------+---------------------+-----------+------------------------+--------------------------+\n",
      "|        5001 | Pigskin Prodigal Fantasy League | PPR            | 2024-04-22          |      1012 | Wicked Awesome         | 2024-04-22               |\n",
      "+-------------+---------------------------------+----------------+---------------------+-----------+------------------------+--------------------------+\n",
      "|        5002 | Recurring Champions League      | Half-PPR       | 2024-04-22          |      1019 | Blitz Platoon          | 2024-04-22               |\n",
      "+-------------+---------------------------------+----------------+---------------------+-----------+------------------------+--------------------------+\n",
      "|        5002 | Recurring Champions League      | Half-PPR       | 2024-04-22          |      1016 | Couch Potatoes         | 2024-04-22               |\n",
      "+-------------+---------------------------------+----------------+---------------------+-----------+------------------------+--------------------------+\n",
      "|        5002 | Recurring Champions League      | Half-PPR       | 2024-04-22          |      1017 | Draft Day Dummies      | 2024-04-22               |\n",
      "+-------------+---------------------------------+----------------+---------------------+-----------+------------------------+--------------------------+\n",
      "|        5002 | Recurring Champions League      | Half-PPR       | 2024-04-22          |      1018 | Endzone Pirates        | 2024-04-22               |\n",
      "+-------------+---------------------------------+----------------+---------------------+-----------+------------------------+--------------------------+\n",
      "|        5002 | Recurring Champions League      | Half-PPR       | 2024-04-22          |      1014 | Fourth and Gronk       | 2024-04-22               |\n",
      "+-------------+---------------------------------+----------------+---------------------+-----------+------------------------+--------------------------+\n",
      "|        5002 | Recurring Champions League      | Half-PPR       | 2024-04-22          |      1015 | Sunday Mudslingers     | 2024-04-22               |\n",
      "+-------------+---------------------------------+----------------+---------------------+-----------+------------------------+--------------------------+\n",
      "|        5002 | Recurring Champions League      | Half-PPR       | 2024-04-22          |      1013 | The Gridiron Goons     | 2024-04-22               |\n",
      "+-------------+---------------------------------+----------------+---------------------+-----------+------------------------+--------------------------+\n",
      "|        5002 | Recurring Champions League      | Half-PPR       | 2024-04-22          |      1020 | The Pigskin Pranksters | 2024-04-22               |\n",
      "+-------------+---------------------------------+----------------+---------------------+-----------+------------------------+--------------------------+\n"
     ]
    }
   ],
   "source": [
    "from tabulate import tabulate\n",
    "\n",
    "# Assuming 'data' is the nested dictionary structure provided\n",
    "\n",
    "# Flattening the nested data structure using list comprehensions and dictionary comprehensions\n",
    "flattened_data = [\n",
    "    [\n",
    "        league['league_id'], \n",
    "        league['league_name'], \n",
    "        league['scoring_type'], \n",
    "        league['last_changed_date'], \n",
    "        team.get('team_id'), \n",
    "        team.get('team_name'), \n",
    "        team.get('last_changed_date')\n",
    "    ]\n",
    "    for league in data\n",
    "    for team in league.get('teams', [{}])\n",
    "]\n",
    "\n",
    "# Defining the headers\n",
    "headers = [\n",
    "    'league_id', 'league_name', 'scoring_type', 'last_changed_date',\n",
    "    'team_id', 'team_name', 'team_last_changed_date'\n",
    "]\n",
    "\n",
    "# Printing the data in tabular form\n",
    "print(tabulate(flattened_data, headers=headers, tablefmt='grid'))\n"
   ]
  },
  {
   "cell_type": "code",
   "execution_count": 30,
   "metadata": {},
   "outputs": [
    {
     "name": "stdout",
     "output_type": "stream",
     "text": [
      "    league_id                      league_name scoring_type last_changed_date  \\\n",
      "0        5001  Pigskin Prodigal Fantasy League          PPR        2024-04-22   \n",
      "1        5001  Pigskin Prodigal Fantasy League          PPR        2024-04-22   \n",
      "2        5001  Pigskin Prodigal Fantasy League          PPR        2024-04-22   \n",
      "3        5001  Pigskin Prodigal Fantasy League          PPR        2024-04-22   \n",
      "4        5001  Pigskin Prodigal Fantasy League          PPR        2024-04-22   \n",
      "5        5001  Pigskin Prodigal Fantasy League          PPR        2024-04-22   \n",
      "6        5001  Pigskin Prodigal Fantasy League          PPR        2024-04-22   \n",
      "7        5001  Pigskin Prodigal Fantasy League          PPR        2024-04-22   \n",
      "8        5001  Pigskin Prodigal Fantasy League          PPR        2024-04-22   \n",
      "9        5001  Pigskin Prodigal Fantasy League          PPR        2024-04-22   \n",
      "10       5001  Pigskin Prodigal Fantasy League          PPR        2024-04-22   \n",
      "11       5001  Pigskin Prodigal Fantasy League          PPR        2024-04-22   \n",
      "12       5002       Recurring Champions League     Half-PPR        2024-04-22   \n",
      "13       5002       Recurring Champions League     Half-PPR        2024-04-22   \n",
      "14       5002       Recurring Champions League     Half-PPR        2024-04-22   \n",
      "15       5002       Recurring Champions League     Half-PPR        2024-04-22   \n",
      "16       5002       Recurring Champions League     Half-PPR        2024-04-22   \n",
      "17       5002       Recurring Champions League     Half-PPR        2024-04-22   \n",
      "18       5002       Recurring Champions League     Half-PPR        2024-04-22   \n",
      "19       5002       Recurring Champions League     Half-PPR        2024-04-22   \n",
      "\n",
      "    team_id               team_name team_last_changed_date  \n",
      "0      1007      Checkers Not Chess             2024-04-22  \n",
      "1      1003           Dallas Steers             2024-04-22  \n",
      "2      1008        Defending Champs             2024-04-22  \n",
      "3      1011           Double Option             2024-04-22  \n",
      "4      1005        Fighting Catfish             2024-04-22  \n",
      "5      1010            Fumblerooski             2024-04-22  \n",
      "6      1004     Never Gonna Give Up             2024-04-22  \n",
      "7      1002           Pigskin Party             2024-04-22  \n",
      "8      1001         Roaring Kitties             2024-04-22  \n",
      "9      1009            Team Generic             2024-04-22  \n",
      "10     1006            Wallaby Stew             2024-04-22  \n",
      "11     1012          Wicked Awesome             2024-04-22  \n",
      "12     1019           Blitz Platoon             2024-04-22  \n",
      "13     1016          Couch Potatoes             2024-04-22  \n",
      "14     1017       Draft Day Dummies             2024-04-22  \n",
      "15     1018         Endzone Pirates             2024-04-22  \n",
      "16     1014        Fourth and Gronk             2024-04-22  \n",
      "17     1015      Sunday Mudslingers             2024-04-22  \n",
      "18     1013      The Gridiron Goons             2024-04-22  \n",
      "19     1020  The Pigskin Pranksters             2024-04-22  \n"
     ]
    }
   ],
   "source": [
    "import pandas as pd\n",
    "\n",
    "# Assuming 'data' is the nested dictionary structure provided\n",
    "\n",
    "# Flattening the nested data structure using list comprehensions\n",
    "flattened_data = [\n",
    "    [\n",
    "        league['league_id'], \n",
    "        league['league_name'], \n",
    "        league['scoring_type'], \n",
    "        league['last_changed_date'], \n",
    "        team.get('team_id'), \n",
    "        team.get('team_name'), \n",
    "        team.get('last_changed_date')\n",
    "    ]\n",
    "    for league in data\n",
    "    for team in league.get('teams', [{}])\n",
    "]\n",
    "\n",
    "# Defining the headers\n",
    "headers = [\n",
    "    'league_id', 'league_name', 'scoring_type', 'last_changed_date',\n",
    "    'team_id', 'team_name', 'team_last_changed_date'\n",
    "]\n",
    "\n",
    "# Converting to a pandas DataFrame\n",
    "df = pd.DataFrame(flattened_data, columns=headers)\n",
    "\n",
    "# Printing the DataFrame\n",
    "print(df)\n"
   ]
  },
  {
   "cell_type": "markdown",
   "metadata": {},
   "source": []
  }
 ],
 "metadata": {
  "kernelspec": {
   "display_name": "Python 3",
   "language": "python",
   "name": "python3"
  },
  "language_info": {
   "codemirror_mode": {
    "name": "ipython",
    "version": 3
   },
   "file_extension": ".py",
   "mimetype": "text/x-python",
   "name": "python",
   "nbconvert_exporter": "python",
   "pygments_lexer": "ipython3",
   "version": "3.10.13"
  }
 },
 "nbformat": 4,
 "nbformat_minor": 2
}
